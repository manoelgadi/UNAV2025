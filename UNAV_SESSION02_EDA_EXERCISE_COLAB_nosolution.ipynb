{
  "cells": [
    {
      "cell_type": "markdown",
      "metadata": {
        "id": "nLqRVFzuUxex"
      },
      "source": [
        "# Math & Stat - Excercise Session 3 / Matemáticas y estadísticas - Sesión de ejercicios 3 / Matemática e estatística - Sessão de exercícios 3\n",
        "\n",
        "EN: Using the cheat sheets inside the directory __reference_documentation_, solve the following exercises.\n",
        "\n",
        "ES: Usando las hojas de trucos dentro del directorio __reference_documentation_, resuelve los siguientes ejercicios.\n",
        "\n",
        "PT: Usando as folhas de dicas dentro do diretório __reference_documentation_, resolva os seguintes exercícios.\n"
      ]
    },
    {
      "cell_type": "markdown",
      "metadata": {
        "id": "-u-AE0bFUxez"
      },
      "source": [
        "---\n",
        "### 1. EN: Write a code to import the python libraries pandas and sqlite3\n",
        "### 1. ES: Escriba un código para importar la bibliotecas de python pandas y sqlite3\n",
        "### 1. PT: Escreva um código para importar as bibliotecas de Python pandas e sqlite3\n"
      ]
    },
    {
      "cell_type": "code",
      "execution_count": 28,
      "metadata": {
        "id": "xjONVencUxe0"
      },
      "outputs": [],
      "source": [
        "#Code\n"
      ]
    },
    {
      "cell_type": "markdown",
      "metadata": {
        "id": "assYb90ZUxe0"
      },
      "source": [
        "---\n",
        "### 2. EN: Read the xlsx (Excel) file yahoo.xlsx inside the datasets directory into a Pandas DataFrame: https://github.com/manoelgadi/PSDMA/raw/refs/heads/main/datasets/HBAT.xlsx\n",
        "### 2. ES: Lea el archivo xlsx (Excel) yahoo.xlsx dentro de la carpeta datasets a un Dataframe Pandas\n",
        "### 2. PT: Leia o arquivo xlsx (Excel) yahoo.xlsx dentro do diretório datasets em um Dataframe Pandas"
      ]
    },
    {
      "cell_type": "code",
      "execution_count": 29,
      "metadata": {
        "id": "ZkKrWT9-Uxe0"
      },
      "outputs": [],
      "source": [
        "#hint: pd.read_excel\n",
        "\n"
      ]
    },
    {
      "cell_type": "markdown",
      "metadata": {
        "id": "q1TP6brLUxe1"
      },
      "source": [
        "---\n",
        "### 3. EN: Unsing Pandas, print the number of rows and columns of the dataframe loaded from yahoo.xlsx (hint .shape)\n",
        "### 3. ES: Usando Pandas, imprima el número de filas y columnas del dataframe cargado desde yahoo.xlsx (sugerencia .shape)\n",
        "### 3. PT: Usando Pandas, imprima o número de linhas e colunas do dataframe carregado de yahoo.xlsx (dica .shape)"
      ]
    },
    {
      "cell_type": "code",
      "execution_count": 30,
      "metadata": {
        "id": "d7NookxHUxe1"
      },
      "outputs": [],
      "source": [
        "#Code\n"
      ]
    },
    {
      "cell_type": "markdown",
      "metadata": {
        "id": "Ps7cTYM9Uxe1"
      },
      "source": [
        "---\n",
        "### 4. EN: Unsing Pandas, print the first 20 rows and all columns of the dataframe loaded from yahoo.xlsx (hint .head)\n",
        "### 4. ES: Unsing Pandas, imprime las primeras 20 filas y todas las columnas del dataframe cargado desde yahoo.xlsx (pista .head)\n",
        "### 4. PT: Unsing Pandas, imprima as primeiras 20 linhas e todas as colunas do dataframe carregado de yahoo.xlsx (hint .head)"
      ]
    },
    {
      "cell_type": "code",
      "execution_count": 31,
      "metadata": {
        "id": "lbvYrhFQUxe2"
      },
      "outputs": [],
      "source": [
        "#Code\n"
      ]
    },
    {
      "cell_type": "markdown",
      "metadata": {
        "id": "5K0FN3pXUxe2"
      },
      "source": [
        "---\n",
        "### 5. EN: Unsing Pandas, print the descriptive statistics of all numeric columns of the dataframe loaded from yahoo.xlsx (hint .describe)\n",
        "### 5. ES: Unsing Pandas, imprima las estadísticas descriptivas de todas las columnas numéricas del dataframe cargado desde yahoo.xlsx (pista .describe)\n",
        "### 5. PT: Unsing Pandas, imprima as estatísticas descritivas de todas as colunas numéricas do dataframe carregado de yahoo.xlsx (hint .describe)"
      ]
    },
    {
      "cell_type": "code",
      "execution_count": 32,
      "metadata": {
        "id": "2oUQFyPNUxe2"
      },
      "outputs": [],
      "source": [
        "#Code\n"
      ]
    },
    {
      "cell_type": "markdown",
      "metadata": {
        "id": "_og0JDp2Uxe2"
      },
      "source": [
        "---\n",
        "###  6. EN: Unsing Pandas, print the relative frequency table of the column 'sector' the dataframe loaded from yahoo.xlsx (hint .value_counts and normalize)\n",
        "\n",
        "###  6. ES: Unsing Pandas, imprime la tabla de frecuencia relativa de la columna 'sector' el dataframe cargado desde yahoo.xlsx (sugerencia .value_counts y normalize)\n",
        "\n",
        "###  6. EN: Unsing Pandas, imprima a tabela de frequência relativa da coluna 'sector' o dataframe carregado do yahoo.xlsx (dica .value_counts e normalize)\n"
      ]
    },
    {
      "cell_type": "code",
      "execution_count": 33,
      "metadata": {
        "id": "AEe6HriHUxe2"
      },
      "outputs": [],
      "source": [
        "#Code\n"
      ]
    },
    {
      "cell_type": "markdown",
      "metadata": {
        "id": "TQmbXU3KUxe2"
      },
      "source": [
        "---\n",
        "### 7. EN: Read the SAS dataset file DCSKINPRODUCT.sas7bdat inside the datasets directory into a Pandas DataFrame\n",
        "### 7. ES: Lea el archivo de conjunto de datos SAS DCSKINPRODUCT.sas7bdat dentro de la carpeta datasets a un Dataframe Pandas\n",
        "### 7. PT: Leia o arquivo de conjunto de dados SAS DCSKINPRODUCT.sas7bdat dentro do diretório de conjuntos de dados em um Dataframe Pandas\n"
      ]
    },
    {
      "cell_type": "code",
      "execution_count": 34,
      "metadata": {
        "id": "FVb1NO22Uxe3"
      },
      "outputs": [],
      "source": [
        "#hint: pd.read_sas\n"
      ]
    },
    {
      "cell_type": "markdown",
      "metadata": {
        "id": "J-lAVSrfUxe3"
      },
      "source": [
        "---\n",
        "### 8. EN: Read the SQL table balancesheet inside sqlite3 database file company_balancesheet_database.db inside the datasets directory into a Pandas DataFrame and perform a simple EDA in the data as in the previous question.\n",
        "### 8. ES: Lea la tabla SQL balancesheet dentro del archivo de base de datos sqlite3 company_balancesheet_database.db dentro de la carpeta datasets a un Dataframe Pandas y realizar un EDA simple en los datos como en la pregunta anterior.\n",
        "### 8. PT: Leia a tabela SQL balancesheet dentro do arquivo de banco de dados sqlite3 company_balancesheet_database.db dentro do diretório datasets em um Dataframe Pandas e execute um EDA simples nos dados como na pergunta anterior."
      ]
    },
    {
      "cell_type": "code",
      "execution_count": 35,
      "metadata": {
        "id": "ecX1tGXDUxe3"
      },
      "outputs": [],
      "source": [
        "#hint: pd.read_sql_query\n"
      ]
    },
    {
      "cell_type": "markdown",
      "metadata": {
        "id": "KcrkFr0qUxe3"
      },
      "source": [
        "---\n",
        "### 9. EN: Read the first table from the HTML page: https://en.wikipedia.org/wiki/Minnesota  into a Pandas DataFrame\n",
        "### 9. ES: Lea la primera tabla de la página HTML: https://en.wikipedia.org/wiki/Minnesota  en un Dataframe Pandas\n",
        "### 9. EN: Leia a primeira tabela da página HTML: https://en.wikipedia.org/wiki/Minnesota em um Pandas DataFrame"
      ]
    },
    {
      "cell_type": "code",
      "execution_count": 36,
      "metadata": {
        "id": "DxAhjFBjUxe3"
      },
      "outputs": [],
      "source": [
        "# hint: od.read_html\n",
        "\n"
      ]
    },
    {
      "cell_type": "markdown",
      "metadata": {
        "id": "rfS8_krxUxe3"
      },
      "source": [
        "---\n",
        "### 10. EN: Read the JSON file default.json inside the datasets directory into a Pandas DataFrame\n",
        "### 10. ES: Lea el archivo JSON default.json dentro de la carpeta datasets en un Pandas DataFrame\n",
        "### 10. PT: Leia o arquivo JSON default.json dentro do diretório datasets em um Pandas DataFrame"
      ]
    },
    {
      "cell_type": "code",
      "execution_count": 37,
      "metadata": {
        "id": "q9SNbdzgUxe4"
      },
      "outputs": [],
      "source": [
        "#hint: pd.read_json\n"
      ]
    },
    {
      "cell_type": "code",
      "execution_count": 37,
      "metadata": {
        "id": "X2674AQ_Uxe5"
      },
      "outputs": [],
      "source": []
    }
  ],
  "metadata": {
    "kernelspec": {
      "display_name": "Python 3 (ipykernel)",
      "language": "python",
      "name": "python3"
    },
    "language_info": {
      "codemirror_mode": {
        "name": "ipython",
        "version": 3
      },
      "file_extension": ".py",
      "mimetype": "text/x-python",
      "name": "python",
      "nbconvert_exporter": "python",
      "pygments_lexer": "ipython3",
      "version": "3.9.13"
    },
    "vscode": {
      "interpreter": {
        "hash": "916dbcbb3f70747c44a77c7bcd40155683ae19c65e1c03b4aa3499c5328201f1"
      }
    },
    "colab": {
      "provenance": []
    }
  },
  "nbformat": 4,
  "nbformat_minor": 0
}