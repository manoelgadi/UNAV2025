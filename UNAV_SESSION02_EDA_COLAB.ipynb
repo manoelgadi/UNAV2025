{
  "cells": [
    {
      "cell_type": "markdown",
      "metadata": {
        "id": "KZJw2xLhJiWO"
      },
      "source": [
        "# CURSO: Math & Stat"
      ]
    },
    {
      "cell_type": "markdown",
      "metadata": {
        "id": "gWW7UJDZJiWP"
      },
      "source": [
        "<img src=\"https://mfalonso.pythonanywhere.com/static/img/profile_manoelgadi.png\" width=100 height=100 align=\"right\">\n",
        "\n",
        "Author: Prof. Manoel Gadi\n",
        "\n",
        "Contact: mfalonso@faculty.ie.edu\n",
        "\n",
        "LinkedIn: http://mfalonso.pythonanywhere.com\n",
        "\n",
        "Last revision: 07/Nov/2022"
      ]
    },
    {
      "cell_type": "markdown",
      "metadata": {
        "id": "2q-3fZrgJiWP"
      },
      "source": [
        "---"
      ]
    },
    {
      "cell_type": "markdown",
      "metadata": {
        "id": "1cRFLLvnJiWP"
      },
      "source": [
        "---"
      ]
    },
    {
      "cell_type": "markdown",
      "metadata": {
        "id": "AGswB4iZJiWQ"
      },
      "source": [
        "# Sesion 1 - Estadística Descriptiva\n",
        "\n",
        "La estadística descriptiva es el proceso de describir la muestra.\n",
        "Para  ello  se  utilizan  medidas  de  centralidad,  medidas  de  dispersión, forma de la distribución y valores atípicos (outliers).\n",
        "También se pueden utilizar visualizaciones para explorar y dar sentido a los datos.\n"
      ]
    },
    {
      "cell_type": "markdown",
      "metadata": {
        "id": "fKKhEjm9JiWQ"
      },
      "source": [
        "## Medidas de tendencia central"
      ]
    },
    {
      "cell_type": "markdown",
      "metadata": {
        "id": "9QwAodKSJiWQ"
      },
      "source": [
        "### Mean (Arithmetic) - Media Aritmética\n",
        "\n",
        "La media (o promedio) es la medida más popular y conocida de tendencia central. Se puede usar tanto con datos discretos como continuos, aunque su uso es más frecuente con datos continuos. La media es igual a la suma de todos los valores en el conjunto de datos dividido por el número de valores en el conjunto de datos. Por lo tanto, si tenemos n valores en un conjunto de datos y ellos tienen valores x1, x2, ..., xn, la media de la muestra, generalmente denotada por (pronunciada barra de x), es:\n",
        "\n",
        "\\begin{equation*}\n",
        "\\overline{x} =\n",
        "\\frac{( x_1 + x_2 + ... + x_n )} {N}\n",
        "\\end{equation*}\n",
        "\n",
        "Esta fórmula generalmente se escribe de una manera ligeramente diferente usando la letra mayúscula griega, que se pronuncia \"sigma\", que significa \"suma de ...\":\n",
        "\n",
        "\\begin{equation*}\n",
        "\\overline{x} = \\frac{\\left( \\sum_{k=1}^n x_k \\right)} {N}\n",
        "\\end{equation*}\n",
        "\n",
        "Es posible que haya notado que la fórmula anterior se refiere a la media de la muestra. Entonces, ¿por qué lo hemos llamado medio de muestra? Esto se debe a que, en las estadísticas, las muestras y las poblaciones tienen significados muy diferentes y estas diferencias son muy importantes, incluso si, en el caso de la media, se calculan de la misma manera. Para reconocer que estamos calculando la media de la población y no la media de la muestra, utilizamos la letra minúscula griega \"mu\", indicada como µ:\n",
        "\n",
        "\\begin{equation*}\n",
        "\\mu = \\frac{\\left( \\sum_{k=1}^n x_k \\right)} {N}\n",
        "\\end{equation*}"
      ]
    },
    {
      "cell_type": "markdown",
      "metadata": {
        "id": "2ByivosRJiWQ"
      },
      "source": [
        "Vamos a calcular una media utilizando Python para la base de datos ejemplo anorexia.csv"
      ]
    },
    {
      "cell_type": "code",
      "execution_count": 1,
      "metadata": {
        "id": "PuZzWuSQJiWR"
      },
      "outputs": [],
      "source": [
        "# import libraries numpy, pandas, and scipy.stats module\n",
        "import numpy as np"
      ]
    },
    {
      "cell_type": "code",
      "execution_count": 44,
      "metadata": {
        "id": "DwFyn937JiWS"
      },
      "outputs": [],
      "source": [
        "# import dataset using pd.read_csv() function\n",
        "import pandas as pd\n",
        "import io\n",
        "\n",
        "csv = \"\"\"\n",
        "ID,group,prewt,postwt,difwt\n",
        "101,1,80.5,82.2,1.7\n",
        "201,2,80.7,80.2,-0.5\n",
        "301,3,83.8,95.2,11.4\n",
        "102,1,84.9,85.6,0.7\n",
        "202,2,89.4,80.1,-9.3\n",
        "302,3,83.3,94.3,11\n",
        "103,1,81.5,81.4,-0.1\n",
        "203,2,91.8,86.4,-5.4\n",
        "303,3,86,91.5,5.5\n",
        "104,1,82.6,81.9,-0.7\n",
        "204,2,74,86.3,12.3\n",
        "304,3,82.5,91.9,9.4\n",
        "105,1,79.9,76.4,-3.5\n",
        "205,2,78.1,76.1,-2\n",
        "305,3,86.7,100.3,13.6\n",
        "106,1,88.7,103.6,14.9\n",
        "206,2,88.3,78.1,-10.2\n",
        "306,3,79.6,76.7,-2.9\n",
        "107,1,94.9,98.4,3.5\n",
        "207,2,87.3,75.1,-12.2\n",
        "307,3,76.9,76.8,-0.1\n",
        "108,1,76.3,93.4,17.1\n",
        "208,2,75.1,86.7,11.6\n",
        "308,3,94.2,101.6,7.4\n",
        "109,1,81,73.4,-7.6\n",
        "209,2,80.6,73.5,-7.1\n",
        "309,3,73.4,94.9,21.5\n",
        "110,1,80.5,82.1,1.6\n",
        "210,2,78.4,84.6,6.2\n",
        "310,3,80.5,75.2,-5.3\n",
        "111,1,85,96.7,11.7\n",
        "211,2,77.6,77.4,-0.2\n",
        "311,3,81.6,77.8,-3.8\n",
        "112,1,89.2,95.3,6.1\n",
        "212,2,88.7,79.5,-9.2\n",
        "312,3,82.1,95.5,13.4\n",
        "113,1,81.3,82.4,1.1\n",
        "213,2,81.3,89.6,8.3\n",
        "313,3,77.6,90.7,13.1\n",
        "114,1,76.5,72.5,-4\n",
        "214,2,78.1,81.4,3.3\n",
        "314,3,83.5,92.5,9\n",
        "115,1,70,90.9,20.9\n",
        "215,2,70.5,81.8,11.3\n",
        "315,3,89.9,93.8,3.9\n",
        "116,1,80.4,71.3,-9.1\n",
        "216,2,77.3,77.3,0\n",
        "316,3,86,91.7,5.7\n",
        "117,1,83.3,85.4,2.1\n",
        "217,2,85.2,84.2,-1\n",
        "317,3,87.3,98,10.7\n",
        "118,1,83,81.6,-1.4\n",
        "218,2,86,75.4,-10.6\n",
        "119,1,87.7,89.1,1.4\n",
        "219,2,84.1,79.5,-4.6\n",
        "120,1,84.2,83.9,-0.3\n",
        "220,2,79.7,73,-6.7\n",
        "121,1,86.4,82.7,-3.7\n",
        "221,2,85.5,88.3,2.8\n",
        "122,1,76.5,75.7,-0.8\n",
        "222,2,84.4,84.7,0.3\n",
        "123,1,80.2,82.6,2.4\n",
        "223,2,79.6,81.4,1.8\n",
        "124,1,87.8,100.4,12.6\n",
        "224,2,77.5,81.2,3.7\n",
        "125,1,83.3,85.2,1.9\n",
        "225,2,72.3,88.2,15.9\n",
        "126,1,79.7,83.6,3.9\n",
        "226,2,89,78.8,-10.2\n",
        "127,1,84.5,84.6,0.1\n",
        "227,1,80.8,96.2,15.4\n",
        "128,1,87.4,86.7,-0.7\n",
        "\"\"\"\n",
        "df = pd.read_csv(io.StringIO(csv))\n",
        "#df = pd.read_csv(\"https://github.com/manoelgadi/PSDMA/raw/refs/heads/main/datasets/anorexia.csv\")"
      ]
    },
    {
      "cell_type": "code",
      "execution_count": 45,
      "metadata": {
        "colab": {
          "base_uri": "https://localhost:8080/"
        },
        "id": "RvzndWtPJiWS",
        "outputId": "417cca7d-816f-4893-d18b-6014c1bbaf96"
      },
      "outputs": [
        {
          "output_type": "execute_result",
          "data": {
            "text/plain": [
              "Index(['ID', 'group', 'prewt', 'postwt', 'difwt'], dtype='object')"
            ]
          },
          "metadata": {},
          "execution_count": 45
        }
      ],
      "source": [
        "df.columns"
      ]
    },
    {
      "cell_type": "code",
      "execution_count": 4,
      "metadata": {
        "colab": {
          "base_uri": "https://localhost:8080/"
        },
        "id": "rDQrPSUMJiWT",
        "outputId": "5a0f1c5a-efaa-4463-cd42-183956fcc518"
      },
      "outputs": [
        {
          "output_type": "execute_result",
          "data": {
            "text/plain": [
              "np.float64(82.40833333333333)"
            ]
          },
          "metadata": {},
          "execution_count": 4
        }
      ],
      "source": [
        "df.prewt.mean()"
      ]
    },
    {
      "cell_type": "markdown",
      "metadata": {
        "id": "zbJXOCabJiWT"
      },
      "source": [
        "__QUESTIÓN PARA DEBATE 1__: el __promedio__ anterior es de la __población__ o de la __muestra__?"
      ]
    },
    {
      "cell_type": "markdown",
      "metadata": {
        "id": "gMijHoxJJiWT"
      },
      "source": [
        "### [ Ejercicio 1]: Calcular el promedio para todas las variables."
      ]
    },
    {
      "cell_type": "code",
      "execution_count": 4,
      "metadata": {
        "id": "xsBOoewuJiWT"
      },
      "outputs": [],
      "source": []
    },
    {
      "cell_type": "markdown",
      "metadata": {
        "id": "aK66oz_KJiWT"
      },
      "source": [
        "### Median - Mediana\n",
        "\n",
        "La mediana es la puntuación media para un conjunto de datos que se han organizado en orden de magnitud. La mediana se ve menos afectada por los valores atípicos y sesgados. Para calcular la mediana, supongamos que tenemos los datos a continuación:"
      ]
    },
    {
      "cell_type": "code",
      "execution_count": 5,
      "metadata": {
        "colab": {
          "base_uri": "https://localhost:8080/"
        },
        "id": "ukwBeJH3JiWT",
        "outputId": "031cb8d9-1df4-4553-9114-126620670369"
      },
      "outputs": [
        {
          "output_type": "execute_result",
          "data": {
            "text/plain": [
              "[80.5, 80.7, 83.8, 84.9, 89.4, 83.3, 81.5, 91.8, 86.0, 82.6, 74.0]"
            ]
          },
          "metadata": {},
          "execution_count": 5
        }
      ],
      "source": [
        "list(df.prewt.head(11))"
      ]
    },
    {
      "cell_type": "markdown",
      "metadata": {
        "id": "nhHBT9I-JiWT"
      },
      "source": [
        "Primero necesitamos reorganizar esos datos en orden de magnitud (los más pequeños primero):"
      ]
    },
    {
      "cell_type": "code",
      "execution_count": 6,
      "metadata": {
        "colab": {
          "base_uri": "https://localhost:8080/"
        },
        "id": "zR3URVMkJiWT",
        "outputId": "48eb20dc-5b37-4c48-a488-ef2d4147651b"
      },
      "outputs": [
        {
          "output_type": "stream",
          "name": "stdout",
          "text": [
            "[80.5, 80.7, 83.8, 84.9, 89.4, 83.3, 81.5, 91.8, 86.0, 82.6, 74.0]\n"
          ]
        }
      ],
      "source": [
        "a = list(df.prewt.head(11));print(a)"
      ]
    },
    {
      "cell_type": "code",
      "execution_count": 7,
      "metadata": {
        "colab": {
          "base_uri": "https://localhost:8080/"
        },
        "id": "R22Ma9s9JiWT",
        "outputId": "22528a88-ef39-427a-c209-4216ce934bd4"
      },
      "outputs": [
        {
          "output_type": "stream",
          "name": "stdout",
          "text": [
            "[74.0, 80.5, 80.7, 81.5, 82.6, 83.3, 83.8, 84.9, 86.0, 89.4, 91.8]\n"
          ]
        }
      ],
      "source": [
        "a.sort();print(a)"
      ]
    },
    {
      "cell_type": "markdown",
      "metadata": {
        "id": "nEkPDaLbJiWT"
      },
      "source": [
        "Nuestra mediana es valor del centro, en este caso, 83.3. Es el valor del centro porque hay exactamente 5 puntuaciones antes y 5 puntuaciones después."
      ]
    },
    {
      "cell_type": "code",
      "execution_count": 8,
      "metadata": {
        "colab": {
          "base_uri": "https://localhost:8080/"
        },
        "id": "17c-Sek6JiWT",
        "outputId": "ffa7922e-cfea-4c8f-a7fb-67be6edfede6"
      },
      "outputs": [
        {
          "output_type": "execute_result",
          "data": {
            "text/plain": [
              "83.3"
            ]
          },
          "metadata": {},
          "execution_count": 8
        }
      ],
      "source": [
        "a[5]"
      ]
    },
    {
      "cell_type": "markdown",
      "metadata": {
        "id": "2_ktes1jJiWT"
      },
      "source": [
        "__QUESTIÓN PARA DEBATE 2__: la __mediana__ anterior es de la __población__ o de la __muestra__?"
      ]
    },
    {
      "cell_type": "markdown",
      "metadata": {
        "id": "UvPjz0PVJiWT"
      },
      "source": [
        "En numpy podemos ver que el calculo de la mediana funciona bien y nos devuelve el mismo elemento."
      ]
    },
    {
      "cell_type": "code",
      "execution_count": 9,
      "metadata": {
        "colab": {
          "base_uri": "https://localhost:8080/"
        },
        "id": "Y85gF0mLJiWU",
        "outputId": "a4f13f84-cb39-4e96-9cc1-76ffa96ccd46"
      },
      "outputs": [
        {
          "output_type": "stream",
          "name": "stdout",
          "text": [
            "lista de 11 elementos original =  [80.5, 80.7, 83.8, 84.9, 89.4, 83.3, 81.5, 91.8, 86.0, 82.6, 74.0]\n",
            "lista de 11 elementos ordenada =  [74.0, 80.5, 80.7, 81.5, 82.6, 83.3, 83.8, 84.9, 86.0, 89.4, 91.8]\n",
            "mediana =  83.3\n"
          ]
        }
      ],
      "source": [
        "a = list(df.prewt.head(11))\n",
        "print(\"lista de 11 elementos original = \",a)\n",
        "a.sort()\n",
        "print(\"lista de 11 elementos ordenada = \",a)\n",
        "print(\"mediana = \",np.median(a))"
      ]
    },
    {
      "cell_type": "markdown",
      "metadata": {
        "id": "aiCUJqTPJiWU"
      },
      "source": [
        "Esto funciona bien cuando tenemos un número impar de valores, pero ¿qué sucede cuando tienes un número par de valores? ¿Y si tuvieras solo 10 puntajes? Bueno, simplemente tienes que tomar las dos puntuaciones medias y promediar el resultado. Entonces, si miramos el siguiente ejemplo:"
      ]
    },
    {
      "cell_type": "code",
      "execution_count": 10,
      "metadata": {
        "colab": {
          "base_uri": "https://localhost:8080/"
        },
        "id": "PfMPYF4mJiWU",
        "outputId": "9c472f80-3fc9-4739-ec88-d84ef8347189"
      },
      "outputs": [
        {
          "output_type": "stream",
          "name": "stdout",
          "text": [
            "[80.5, 80.7, 83.8, 84.9, 89.4, 83.3, 81.5, 91.8, 86.0, 82.6]\n"
          ]
        }
      ],
      "source": [
        "a = list(df.prewt.head(10));print(a)"
      ]
    },
    {
      "cell_type": "code",
      "execution_count": 11,
      "metadata": {
        "colab": {
          "base_uri": "https://localhost:8080/"
        },
        "id": "IssP4oytJiWU",
        "outputId": "2e72e943-fdd2-4a8e-a1ca-aef29a698ad8"
      },
      "outputs": [
        {
          "output_type": "stream",
          "name": "stdout",
          "text": [
            "[80.5, 80.7, 81.5, 82.6, 83.3, 83.8, 84.9, 86.0, 89.4, 91.8]\n"
          ]
        }
      ],
      "source": [
        "a.sort();print(a)"
      ]
    },
    {
      "cell_type": "code",
      "execution_count": 12,
      "metadata": {
        "colab": {
          "base_uri": "https://localhost:8080/"
        },
        "id": "OHY03-2AJiWU",
        "outputId": "b69519b8-b2cf-4bbc-ede6-d6cb4134bfb3"
      },
      "outputs": [
        {
          "output_type": "execute_result",
          "data": {
            "text/plain": [
              "83.55"
            ]
          },
          "metadata": {},
          "execution_count": 12
        }
      ],
      "source": [
        "(a[4] + a[5])/2"
      ]
    },
    {
      "cell_type": "markdown",
      "metadata": {
        "id": "nh6992uqJiWU"
      },
      "source": [
        "En numpy podemos ver que el calculo también funciona de la misma manera cuando tenemos un número par de observaciones."
      ]
    },
    {
      "cell_type": "code",
      "execution_count": 13,
      "metadata": {
        "colab": {
          "base_uri": "https://localhost:8080/"
        },
        "id": "Ut6u_VfiJiWU",
        "outputId": "35b66a95-30a4-4144-f1fb-5723c6a23035"
      },
      "outputs": [
        {
          "output_type": "stream",
          "name": "stdout",
          "text": [
            "lista de 11 elementos original =  [80.5, 80.7, 83.8, 84.9, 89.4, 83.3, 81.5, 91.8, 86.0, 82.6]\n",
            "lista de 11 elementos ordenada =  [80.5, 80.7, 81.5, 82.6, 83.3, 83.8, 84.9, 86.0, 89.4, 91.8]\n",
            "mediana =  83.55\n"
          ]
        }
      ],
      "source": [
        "a = list(df.prewt.head(10))\n",
        "print(\"lista de 11 elementos original = \",a)\n",
        "a.sort()\n",
        "print(\"lista de 11 elementos ordenada = \",a)\n",
        "print(\"mediana = \",np.median(a))"
      ]
    },
    {
      "cell_type": "markdown",
      "metadata": {
        "id": "_bGgJktUJiWU"
      },
      "source": [
        "### [ Ejercicio 2]: Calcular la mediana para todas las variables y para todos los datos."
      ]
    },
    {
      "cell_type": "code",
      "execution_count": 13,
      "metadata": {
        "id": "2EYqBQqYJiWU"
      },
      "outputs": [],
      "source": []
    },
    {
      "cell_type": "markdown",
      "metadata": {
        "id": "0MyXaYzCJiWU"
      },
      "source": [
        "## La Moda\n",
        "\n",
        "La moda es la valor más frecuente en nuestro conjunto de datos. La moda no tiene mucho sentido para valor numéricos continuos, se usa para datos __categóricos__ donde deseamos saber cuál es la categoría más común. En nuestros datos ejemplos podemos mirar el campo categorico __group__"
      ]
    },
    {
      "cell_type": "code",
      "execution_count": 14,
      "metadata": {
        "colab": {
          "base_uri": "https://localhost:8080/",
          "height": 458
        },
        "id": "1B6mMhbUJiWU",
        "outputId": "6bf604d2-79c4-42f5-e17f-3f822ddffd8a"
      },
      "outputs": [
        {
          "output_type": "execute_result",
          "data": {
            "text/plain": [
              "0     1\n",
              "1     2\n",
              "2     3\n",
              "3     1\n",
              "4     2\n",
              "     ..\n",
              "67    1\n",
              "68    2\n",
              "69    1\n",
              "70    1\n",
              "71    1\n",
              "Name: group, Length: 72, dtype: int64"
            ],
            "text/html": [
              "<div>\n",
              "<style scoped>\n",
              "    .dataframe tbody tr th:only-of-type {\n",
              "        vertical-align: middle;\n",
              "    }\n",
              "\n",
              "    .dataframe tbody tr th {\n",
              "        vertical-align: top;\n",
              "    }\n",
              "\n",
              "    .dataframe thead th {\n",
              "        text-align: right;\n",
              "    }\n",
              "</style>\n",
              "<table border=\"1\" class=\"dataframe\">\n",
              "  <thead>\n",
              "    <tr style=\"text-align: right;\">\n",
              "      <th></th>\n",
              "      <th>group</th>\n",
              "    </tr>\n",
              "  </thead>\n",
              "  <tbody>\n",
              "    <tr>\n",
              "      <th>0</th>\n",
              "      <td>1</td>\n",
              "    </tr>\n",
              "    <tr>\n",
              "      <th>1</th>\n",
              "      <td>2</td>\n",
              "    </tr>\n",
              "    <tr>\n",
              "      <th>2</th>\n",
              "      <td>3</td>\n",
              "    </tr>\n",
              "    <tr>\n",
              "      <th>3</th>\n",
              "      <td>1</td>\n",
              "    </tr>\n",
              "    <tr>\n",
              "      <th>4</th>\n",
              "      <td>2</td>\n",
              "    </tr>\n",
              "    <tr>\n",
              "      <th>...</th>\n",
              "      <td>...</td>\n",
              "    </tr>\n",
              "    <tr>\n",
              "      <th>67</th>\n",
              "      <td>1</td>\n",
              "    </tr>\n",
              "    <tr>\n",
              "      <th>68</th>\n",
              "      <td>2</td>\n",
              "    </tr>\n",
              "    <tr>\n",
              "      <th>69</th>\n",
              "      <td>1</td>\n",
              "    </tr>\n",
              "    <tr>\n",
              "      <th>70</th>\n",
              "      <td>1</td>\n",
              "    </tr>\n",
              "    <tr>\n",
              "      <th>71</th>\n",
              "      <td>1</td>\n",
              "    </tr>\n",
              "  </tbody>\n",
              "</table>\n",
              "<p>72 rows × 1 columns</p>\n",
              "</div><br><label><b>dtype:</b> int64</label>"
            ]
          },
          "metadata": {},
          "execution_count": 14
        }
      ],
      "source": [
        "df.group"
      ]
    },
    {
      "cell_type": "code",
      "execution_count": 15,
      "metadata": {
        "colab": {
          "base_uri": "https://localhost:8080/",
          "height": 423
        },
        "id": "7JPksAKzJiWU",
        "outputId": "031ebfae-49b1-4836-c5f7-2f2227426544"
      },
      "outputs": [
        {
          "output_type": "execute_result",
          "data": {
            "text/plain": [
              "     ID  group  prewt  postwt  difwt\n",
              "0   101    1.0   80.5    81.4  -10.2\n",
              "1   102    NaN   83.3     NaN   -0.7\n",
              "2   103    NaN   86.0     NaN   -0.1\n",
              "3   104    NaN    NaN     NaN    3.9\n",
              "4   105    NaN    NaN     NaN    NaN\n",
              "..  ...    ...    ...     ...    ...\n",
              "67  313    NaN    NaN     NaN    NaN\n",
              "68  314    NaN    NaN     NaN    NaN\n",
              "69  315    NaN    NaN     NaN    NaN\n",
              "70  316    NaN    NaN     NaN    NaN\n",
              "71  317    NaN    NaN     NaN    NaN\n",
              "\n",
              "[72 rows x 5 columns]"
            ],
            "text/html": [
              "\n",
              "  <div id=\"df-22598cb2-ae9d-4c5d-a121-f7ba82702292\" class=\"colab-df-container\">\n",
              "    <div>\n",
              "<style scoped>\n",
              "    .dataframe tbody tr th:only-of-type {\n",
              "        vertical-align: middle;\n",
              "    }\n",
              "\n",
              "    .dataframe tbody tr th {\n",
              "        vertical-align: top;\n",
              "    }\n",
              "\n",
              "    .dataframe thead th {\n",
              "        text-align: right;\n",
              "    }\n",
              "</style>\n",
              "<table border=\"1\" class=\"dataframe\">\n",
              "  <thead>\n",
              "    <tr style=\"text-align: right;\">\n",
              "      <th></th>\n",
              "      <th>ID</th>\n",
              "      <th>group</th>\n",
              "      <th>prewt</th>\n",
              "      <th>postwt</th>\n",
              "      <th>difwt</th>\n",
              "    </tr>\n",
              "  </thead>\n",
              "  <tbody>\n",
              "    <tr>\n",
              "      <th>0</th>\n",
              "      <td>101</td>\n",
              "      <td>1.0</td>\n",
              "      <td>80.5</td>\n",
              "      <td>81.4</td>\n",
              "      <td>-10.2</td>\n",
              "    </tr>\n",
              "    <tr>\n",
              "      <th>1</th>\n",
              "      <td>102</td>\n",
              "      <td>NaN</td>\n",
              "      <td>83.3</td>\n",
              "      <td>NaN</td>\n",
              "      <td>-0.7</td>\n",
              "    </tr>\n",
              "    <tr>\n",
              "      <th>2</th>\n",
              "      <td>103</td>\n",
              "      <td>NaN</td>\n",
              "      <td>86.0</td>\n",
              "      <td>NaN</td>\n",
              "      <td>-0.1</td>\n",
              "    </tr>\n",
              "    <tr>\n",
              "      <th>3</th>\n",
              "      <td>104</td>\n",
              "      <td>NaN</td>\n",
              "      <td>NaN</td>\n",
              "      <td>NaN</td>\n",
              "      <td>3.9</td>\n",
              "    </tr>\n",
              "    <tr>\n",
              "      <th>4</th>\n",
              "      <td>105</td>\n",
              "      <td>NaN</td>\n",
              "      <td>NaN</td>\n",
              "      <td>NaN</td>\n",
              "      <td>NaN</td>\n",
              "    </tr>\n",
              "    <tr>\n",
              "      <th>...</th>\n",
              "      <td>...</td>\n",
              "      <td>...</td>\n",
              "      <td>...</td>\n",
              "      <td>...</td>\n",
              "      <td>...</td>\n",
              "    </tr>\n",
              "    <tr>\n",
              "      <th>67</th>\n",
              "      <td>313</td>\n",
              "      <td>NaN</td>\n",
              "      <td>NaN</td>\n",
              "      <td>NaN</td>\n",
              "      <td>NaN</td>\n",
              "    </tr>\n",
              "    <tr>\n",
              "      <th>68</th>\n",
              "      <td>314</td>\n",
              "      <td>NaN</td>\n",
              "      <td>NaN</td>\n",
              "      <td>NaN</td>\n",
              "      <td>NaN</td>\n",
              "    </tr>\n",
              "    <tr>\n",
              "      <th>69</th>\n",
              "      <td>315</td>\n",
              "      <td>NaN</td>\n",
              "      <td>NaN</td>\n",
              "      <td>NaN</td>\n",
              "      <td>NaN</td>\n",
              "    </tr>\n",
              "    <tr>\n",
              "      <th>70</th>\n",
              "      <td>316</td>\n",
              "      <td>NaN</td>\n",
              "      <td>NaN</td>\n",
              "      <td>NaN</td>\n",
              "      <td>NaN</td>\n",
              "    </tr>\n",
              "    <tr>\n",
              "      <th>71</th>\n",
              "      <td>317</td>\n",
              "      <td>NaN</td>\n",
              "      <td>NaN</td>\n",
              "      <td>NaN</td>\n",
              "      <td>NaN</td>\n",
              "    </tr>\n",
              "  </tbody>\n",
              "</table>\n",
              "<p>72 rows × 5 columns</p>\n",
              "</div>\n",
              "    <div class=\"colab-df-buttons\">\n",
              "\n",
              "  <div class=\"colab-df-container\">\n",
              "    <button class=\"colab-df-convert\" onclick=\"convertToInteractive('df-22598cb2-ae9d-4c5d-a121-f7ba82702292')\"\n",
              "            title=\"Convert this dataframe to an interactive table.\"\n",
              "            style=\"display:none;\">\n",
              "\n",
              "  <svg xmlns=\"http://www.w3.org/2000/svg\" height=\"24px\" viewBox=\"0 -960 960 960\">\n",
              "    <path d=\"M120-120v-720h720v720H120Zm60-500h600v-160H180v160Zm220 220h160v-160H400v160Zm0 220h160v-160H400v160ZM180-400h160v-160H180v160Zm440 0h160v-160H620v160ZM180-180h160v-160H180v160Zm440 0h160v-160H620v160Z\"/>\n",
              "  </svg>\n",
              "    </button>\n",
              "\n",
              "  <style>\n",
              "    .colab-df-container {\n",
              "      display:flex;\n",
              "      gap: 12px;\n",
              "    }\n",
              "\n",
              "    .colab-df-convert {\n",
              "      background-color: #E8F0FE;\n",
              "      border: none;\n",
              "      border-radius: 50%;\n",
              "      cursor: pointer;\n",
              "      display: none;\n",
              "      fill: #1967D2;\n",
              "      height: 32px;\n",
              "      padding: 0 0 0 0;\n",
              "      width: 32px;\n",
              "    }\n",
              "\n",
              "    .colab-df-convert:hover {\n",
              "      background-color: #E2EBFA;\n",
              "      box-shadow: 0px 1px 2px rgba(60, 64, 67, 0.3), 0px 1px 3px 1px rgba(60, 64, 67, 0.15);\n",
              "      fill: #174EA6;\n",
              "    }\n",
              "\n",
              "    .colab-df-buttons div {\n",
              "      margin-bottom: 4px;\n",
              "    }\n",
              "\n",
              "    [theme=dark] .colab-df-convert {\n",
              "      background-color: #3B4455;\n",
              "      fill: #D2E3FC;\n",
              "    }\n",
              "\n",
              "    [theme=dark] .colab-df-convert:hover {\n",
              "      background-color: #434B5C;\n",
              "      box-shadow: 0px 1px 3px 1px rgba(0, 0, 0, 0.15);\n",
              "      filter: drop-shadow(0px 1px 2px rgba(0, 0, 0, 0.3));\n",
              "      fill: #FFFFFF;\n",
              "    }\n",
              "  </style>\n",
              "\n",
              "    <script>\n",
              "      const buttonEl =\n",
              "        document.querySelector('#df-22598cb2-ae9d-4c5d-a121-f7ba82702292 button.colab-df-convert');\n",
              "      buttonEl.style.display =\n",
              "        google.colab.kernel.accessAllowed ? 'block' : 'none';\n",
              "\n",
              "      async function convertToInteractive(key) {\n",
              "        const element = document.querySelector('#df-22598cb2-ae9d-4c5d-a121-f7ba82702292');\n",
              "        const dataTable =\n",
              "          await google.colab.kernel.invokeFunction('convertToInteractive',\n",
              "                                                    [key], {});\n",
              "        if (!dataTable) return;\n",
              "\n",
              "        const docLinkHtml = 'Like what you see? Visit the ' +\n",
              "          '<a target=\"_blank\" href=https://colab.research.google.com/notebooks/data_table.ipynb>data table notebook</a>'\n",
              "          + ' to learn more about interactive tables.';\n",
              "        element.innerHTML = '';\n",
              "        dataTable['output_type'] = 'display_data';\n",
              "        await google.colab.output.renderOutput(dataTable, element);\n",
              "        const docLink = document.createElement('div');\n",
              "        docLink.innerHTML = docLinkHtml;\n",
              "        element.appendChild(docLink);\n",
              "      }\n",
              "    </script>\n",
              "  </div>\n",
              "\n",
              "\n",
              "    <div id=\"df-3d7c3e20-176d-486e-90ac-d507c5d8e45f\">\n",
              "      <button class=\"colab-df-quickchart\" onclick=\"quickchart('df-3d7c3e20-176d-486e-90ac-d507c5d8e45f')\"\n",
              "                title=\"Suggest charts\"\n",
              "                style=\"display:none;\">\n",
              "\n",
              "<svg xmlns=\"http://www.w3.org/2000/svg\" height=\"24px\"viewBox=\"0 0 24 24\"\n",
              "     width=\"24px\">\n",
              "    <g>\n",
              "        <path d=\"M19 3H5c-1.1 0-2 .9-2 2v14c0 1.1.9 2 2 2h14c1.1 0 2-.9 2-2V5c0-1.1-.9-2-2-2zM9 17H7v-7h2v7zm4 0h-2V7h2v10zm4 0h-2v-4h2v4z\"/>\n",
              "    </g>\n",
              "</svg>\n",
              "      </button>\n",
              "\n",
              "<style>\n",
              "  .colab-df-quickchart {\n",
              "      --bg-color: #E8F0FE;\n",
              "      --fill-color: #1967D2;\n",
              "      --hover-bg-color: #E2EBFA;\n",
              "      --hover-fill-color: #174EA6;\n",
              "      --disabled-fill-color: #AAA;\n",
              "      --disabled-bg-color: #DDD;\n",
              "  }\n",
              "\n",
              "  [theme=dark] .colab-df-quickchart {\n",
              "      --bg-color: #3B4455;\n",
              "      --fill-color: #D2E3FC;\n",
              "      --hover-bg-color: #434B5C;\n",
              "      --hover-fill-color: #FFFFFF;\n",
              "      --disabled-bg-color: #3B4455;\n",
              "      --disabled-fill-color: #666;\n",
              "  }\n",
              "\n",
              "  .colab-df-quickchart {\n",
              "    background-color: var(--bg-color);\n",
              "    border: none;\n",
              "    border-radius: 50%;\n",
              "    cursor: pointer;\n",
              "    display: none;\n",
              "    fill: var(--fill-color);\n",
              "    height: 32px;\n",
              "    padding: 0;\n",
              "    width: 32px;\n",
              "  }\n",
              "\n",
              "  .colab-df-quickchart:hover {\n",
              "    background-color: var(--hover-bg-color);\n",
              "    box-shadow: 0 1px 2px rgba(60, 64, 67, 0.3), 0 1px 3px 1px rgba(60, 64, 67, 0.15);\n",
              "    fill: var(--button-hover-fill-color);\n",
              "  }\n",
              "\n",
              "  .colab-df-quickchart-complete:disabled,\n",
              "  .colab-df-quickchart-complete:disabled:hover {\n",
              "    background-color: var(--disabled-bg-color);\n",
              "    fill: var(--disabled-fill-color);\n",
              "    box-shadow: none;\n",
              "  }\n",
              "\n",
              "  .colab-df-spinner {\n",
              "    border: 2px solid var(--fill-color);\n",
              "    border-color: transparent;\n",
              "    border-bottom-color: var(--fill-color);\n",
              "    animation:\n",
              "      spin 1s steps(1) infinite;\n",
              "  }\n",
              "\n",
              "  @keyframes spin {\n",
              "    0% {\n",
              "      border-color: transparent;\n",
              "      border-bottom-color: var(--fill-color);\n",
              "      border-left-color: var(--fill-color);\n",
              "    }\n",
              "    20% {\n",
              "      border-color: transparent;\n",
              "      border-left-color: var(--fill-color);\n",
              "      border-top-color: var(--fill-color);\n",
              "    }\n",
              "    30% {\n",
              "      border-color: transparent;\n",
              "      border-left-color: var(--fill-color);\n",
              "      border-top-color: var(--fill-color);\n",
              "      border-right-color: var(--fill-color);\n",
              "    }\n",
              "    40% {\n",
              "      border-color: transparent;\n",
              "      border-right-color: var(--fill-color);\n",
              "      border-top-color: var(--fill-color);\n",
              "    }\n",
              "    60% {\n",
              "      border-color: transparent;\n",
              "      border-right-color: var(--fill-color);\n",
              "    }\n",
              "    80% {\n",
              "      border-color: transparent;\n",
              "      border-right-color: var(--fill-color);\n",
              "      border-bottom-color: var(--fill-color);\n",
              "    }\n",
              "    90% {\n",
              "      border-color: transparent;\n",
              "      border-bottom-color: var(--fill-color);\n",
              "    }\n",
              "  }\n",
              "</style>\n",
              "\n",
              "      <script>\n",
              "        async function quickchart(key) {\n",
              "          const quickchartButtonEl =\n",
              "            document.querySelector('#' + key + ' button');\n",
              "          quickchartButtonEl.disabled = true;  // To prevent multiple clicks.\n",
              "          quickchartButtonEl.classList.add('colab-df-spinner');\n",
              "          try {\n",
              "            const charts = await google.colab.kernel.invokeFunction(\n",
              "                'suggestCharts', [key], {});\n",
              "          } catch (error) {\n",
              "            console.error('Error during call to suggestCharts:', error);\n",
              "          }\n",
              "          quickchartButtonEl.classList.remove('colab-df-spinner');\n",
              "          quickchartButtonEl.classList.add('colab-df-quickchart-complete');\n",
              "        }\n",
              "        (() => {\n",
              "          let quickchartButtonEl =\n",
              "            document.querySelector('#df-3d7c3e20-176d-486e-90ac-d507c5d8e45f button');\n",
              "          quickchartButtonEl.style.display =\n",
              "            google.colab.kernel.accessAllowed ? 'block' : 'none';\n",
              "        })();\n",
              "      </script>\n",
              "    </div>\n",
              "\n",
              "    </div>\n",
              "  </div>\n"
            ],
            "application/vnd.google.colaboratory.intrinsic+json": {
              "type": "dataframe",
              "summary": "{\n  \"name\": \"df\",\n  \"rows\": 72,\n  \"fields\": [\n    {\n      \"column\": \"ID\",\n      \"properties\": {\n        \"dtype\": \"number\",\n        \"std\": 76,\n        \"min\": 101,\n        \"max\": 317,\n        \"num_unique_values\": 72,\n        \"samples\": [\n          105,\n          308,\n          119\n        ],\n        \"semantic_type\": \"\",\n        \"description\": \"\"\n      }\n    },\n    {\n      \"column\": \"group\",\n      \"properties\": {\n        \"dtype\": \"number\",\n        \"std\": null,\n        \"min\": 1.0,\n        \"max\": 1.0,\n        \"num_unique_values\": 1,\n        \"samples\": [\n          1.0\n        ],\n        \"semantic_type\": \"\",\n        \"description\": \"\"\n      }\n    },\n    {\n      \"column\": \"prewt\",\n      \"properties\": {\n        \"dtype\": \"number\",\n        \"std\": 2.750151510977774,\n        \"min\": 80.5,\n        \"max\": 86.0,\n        \"num_unique_values\": 3,\n        \"samples\": [\n          80.5\n        ],\n        \"semantic_type\": \"\",\n        \"description\": \"\"\n      }\n    },\n    {\n      \"column\": \"postwt\",\n      \"properties\": {\n        \"dtype\": \"number\",\n        \"std\": null,\n        \"min\": 81.4,\n        \"max\": 81.4,\n        \"num_unique_values\": 1,\n        \"samples\": [\n          81.4\n        ],\n        \"semantic_type\": \"\",\n        \"description\": \"\"\n      }\n    },\n    {\n      \"column\": \"difwt\",\n      \"properties\": {\n        \"dtype\": \"number\",\n        \"std\": 5.97627252836861,\n        \"min\": -10.2,\n        \"max\": 3.9,\n        \"num_unique_values\": 4,\n        \"samples\": [\n          -0.7\n        ],\n        \"semantic_type\": \"\",\n        \"description\": \"\"\n      }\n    }\n  ]\n}"
            }
          },
          "metadata": {},
          "execution_count": 15
        }
      ],
      "source": [
        "df.mode() #abajo se pude ver que aplicar mode al dataframe genera resultados sin sentido"
      ]
    },
    {
      "cell_type": "markdown",
      "metadata": {
        "id": "kKNY2XCeJiWU"
      },
      "source": [
        "Ahora, para seguir analizando la moda, necesitamos entender un poco más de nuestra base de datos y principalmente la columna __group__. Según https://stat.ethz.ch/R-manual/R-devel/library/MASS/html/anorexia.html, nuestra base de datos anorexia.csv datos de cambio de peso para pacientes jóvenes con anorexia femenina.\n",
        "\n",
        "Siendo que el tratamiento (columna: group) contiene:\n",
        "* Grupo 1: Terapia individual de comportamiento cognitivo.\n",
        "* Grupo 2: Grupo de control\n",
        "* Grupo 3: Terapia familiar.\n",
        "\n",
        "\n",
        "La columna Prewt\n",
        "\n",
        "     Indica el peso del paciente antes del período de estudio, en libras.\n",
        "\n",
        "Postwt\n",
        "\n",
        "     Indica el peso del paciente después del período de estudio, en libras."
      ]
    },
    {
      "cell_type": "markdown",
      "metadata": {
        "id": "Gd1R69lFJiWV"
      },
      "source": [
        "Para calcular la moda en numpy/pandas, lo hacemos con .mode()"
      ]
    },
    {
      "cell_type": "code",
      "execution_count": 16,
      "metadata": {
        "colab": {
          "base_uri": "https://localhost:8080/",
          "height": 115
        },
        "id": "TDN-5NDGJiWV",
        "outputId": "44af6bdd-4e46-4ea0-de44-02e9cea43cd8"
      },
      "outputs": [
        {
          "output_type": "execute_result",
          "data": {
            "text/plain": [
              "0    1\n",
              "Name: group, dtype: int64"
            ],
            "text/html": [
              "<div>\n",
              "<style scoped>\n",
              "    .dataframe tbody tr th:only-of-type {\n",
              "        vertical-align: middle;\n",
              "    }\n",
              "\n",
              "    .dataframe tbody tr th {\n",
              "        vertical-align: top;\n",
              "    }\n",
              "\n",
              "    .dataframe thead th {\n",
              "        text-align: right;\n",
              "    }\n",
              "</style>\n",
              "<table border=\"1\" class=\"dataframe\">\n",
              "  <thead>\n",
              "    <tr style=\"text-align: right;\">\n",
              "      <th></th>\n",
              "      <th>group</th>\n",
              "    </tr>\n",
              "  </thead>\n",
              "  <tbody>\n",
              "    <tr>\n",
              "      <th>0</th>\n",
              "      <td>1</td>\n",
              "    </tr>\n",
              "  </tbody>\n",
              "</table>\n",
              "</div><br><label><b>dtype:</b> int64</label>"
            ]
          },
          "metadata": {},
          "execution_count": 16
        }
      ],
      "source": [
        "df.group.mode()"
      ]
    },
    {
      "cell_type": "markdown",
      "metadata": {
        "id": "v4V61qzdJiWe"
      },
      "source": [
        "__QUESTIÓN PARA DEBATE 3__: Que significa el resultado anterior?"
      ]
    },
    {
      "cell_type": "markdown",
      "metadata": {
        "id": "ic39qHbnJiWe"
      },
      "source": [
        "---"
      ]
    },
    {
      "cell_type": "markdown",
      "metadata": {
        "id": "LWr1yepKJiWe"
      },
      "source": [
        "Termina siendo más fácil ver dicho resultado, si en vez de utilizar la moda, directamente sacamos una tabla de ocurrencias de los grupos y un histograma."
      ]
    },
    {
      "cell_type": "code",
      "execution_count": 17,
      "metadata": {
        "colab": {
          "base_uri": "https://localhost:8080/",
          "height": 174
        },
        "id": "CPdwcVGeJiWe",
        "outputId": "a8b0504e-8611-443a-ec6f-fcee73377adb"
      },
      "outputs": [
        {
          "output_type": "execute_result",
          "data": {
            "text/plain": [
              "       ID\n",
              "group    \n",
              "1      29\n",
              "2      26\n",
              "3      17"
            ],
            "text/html": [
              "\n",
              "  <div id=\"df-d92e152d-287e-4289-b253-c6b4ebaa7703\" class=\"colab-df-container\">\n",
              "    <div>\n",
              "<style scoped>\n",
              "    .dataframe tbody tr th:only-of-type {\n",
              "        vertical-align: middle;\n",
              "    }\n",
              "\n",
              "    .dataframe tbody tr th {\n",
              "        vertical-align: top;\n",
              "    }\n",
              "\n",
              "    .dataframe thead th {\n",
              "        text-align: right;\n",
              "    }\n",
              "</style>\n",
              "<table border=\"1\" class=\"dataframe\">\n",
              "  <thead>\n",
              "    <tr style=\"text-align: right;\">\n",
              "      <th></th>\n",
              "      <th>ID</th>\n",
              "    </tr>\n",
              "    <tr>\n",
              "      <th>group</th>\n",
              "      <th></th>\n",
              "    </tr>\n",
              "  </thead>\n",
              "  <tbody>\n",
              "    <tr>\n",
              "      <th>1</th>\n",
              "      <td>29</td>\n",
              "    </tr>\n",
              "    <tr>\n",
              "      <th>2</th>\n",
              "      <td>26</td>\n",
              "    </tr>\n",
              "    <tr>\n",
              "      <th>3</th>\n",
              "      <td>17</td>\n",
              "    </tr>\n",
              "  </tbody>\n",
              "</table>\n",
              "</div>\n",
              "    <div class=\"colab-df-buttons\">\n",
              "\n",
              "  <div class=\"colab-df-container\">\n",
              "    <button class=\"colab-df-convert\" onclick=\"convertToInteractive('df-d92e152d-287e-4289-b253-c6b4ebaa7703')\"\n",
              "            title=\"Convert this dataframe to an interactive table.\"\n",
              "            style=\"display:none;\">\n",
              "\n",
              "  <svg xmlns=\"http://www.w3.org/2000/svg\" height=\"24px\" viewBox=\"0 -960 960 960\">\n",
              "    <path d=\"M120-120v-720h720v720H120Zm60-500h600v-160H180v160Zm220 220h160v-160H400v160Zm0 220h160v-160H400v160ZM180-400h160v-160H180v160Zm440 0h160v-160H620v160ZM180-180h160v-160H180v160Zm440 0h160v-160H620v160Z\"/>\n",
              "  </svg>\n",
              "    </button>\n",
              "\n",
              "  <style>\n",
              "    .colab-df-container {\n",
              "      display:flex;\n",
              "      gap: 12px;\n",
              "    }\n",
              "\n",
              "    .colab-df-convert {\n",
              "      background-color: #E8F0FE;\n",
              "      border: none;\n",
              "      border-radius: 50%;\n",
              "      cursor: pointer;\n",
              "      display: none;\n",
              "      fill: #1967D2;\n",
              "      height: 32px;\n",
              "      padding: 0 0 0 0;\n",
              "      width: 32px;\n",
              "    }\n",
              "\n",
              "    .colab-df-convert:hover {\n",
              "      background-color: #E2EBFA;\n",
              "      box-shadow: 0px 1px 2px rgba(60, 64, 67, 0.3), 0px 1px 3px 1px rgba(60, 64, 67, 0.15);\n",
              "      fill: #174EA6;\n",
              "    }\n",
              "\n",
              "    .colab-df-buttons div {\n",
              "      margin-bottom: 4px;\n",
              "    }\n",
              "\n",
              "    [theme=dark] .colab-df-convert {\n",
              "      background-color: #3B4455;\n",
              "      fill: #D2E3FC;\n",
              "    }\n",
              "\n",
              "    [theme=dark] .colab-df-convert:hover {\n",
              "      background-color: #434B5C;\n",
              "      box-shadow: 0px 1px 3px 1px rgba(0, 0, 0, 0.15);\n",
              "      filter: drop-shadow(0px 1px 2px rgba(0, 0, 0, 0.3));\n",
              "      fill: #FFFFFF;\n",
              "    }\n",
              "  </style>\n",
              "\n",
              "    <script>\n",
              "      const buttonEl =\n",
              "        document.querySelector('#df-d92e152d-287e-4289-b253-c6b4ebaa7703 button.colab-df-convert');\n",
              "      buttonEl.style.display =\n",
              "        google.colab.kernel.accessAllowed ? 'block' : 'none';\n",
              "\n",
              "      async function convertToInteractive(key) {\n",
              "        const element = document.querySelector('#df-d92e152d-287e-4289-b253-c6b4ebaa7703');\n",
              "        const dataTable =\n",
              "          await google.colab.kernel.invokeFunction('convertToInteractive',\n",
              "                                                    [key], {});\n",
              "        if (!dataTable) return;\n",
              "\n",
              "        const docLinkHtml = 'Like what you see? Visit the ' +\n",
              "          '<a target=\"_blank\" href=https://colab.research.google.com/notebooks/data_table.ipynb>data table notebook</a>'\n",
              "          + ' to learn more about interactive tables.';\n",
              "        element.innerHTML = '';\n",
              "        dataTable['output_type'] = 'display_data';\n",
              "        await google.colab.output.renderOutput(dataTable, element);\n",
              "        const docLink = document.createElement('div');\n",
              "        docLink.innerHTML = docLinkHtml;\n",
              "        element.appendChild(docLink);\n",
              "      }\n",
              "    </script>\n",
              "  </div>\n",
              "\n",
              "\n",
              "    <div id=\"df-e5447b43-ca73-4b81-b9ef-f39fb9a857d6\">\n",
              "      <button class=\"colab-df-quickchart\" onclick=\"quickchart('df-e5447b43-ca73-4b81-b9ef-f39fb9a857d6')\"\n",
              "                title=\"Suggest charts\"\n",
              "                style=\"display:none;\">\n",
              "\n",
              "<svg xmlns=\"http://www.w3.org/2000/svg\" height=\"24px\"viewBox=\"0 0 24 24\"\n",
              "     width=\"24px\">\n",
              "    <g>\n",
              "        <path d=\"M19 3H5c-1.1 0-2 .9-2 2v14c0 1.1.9 2 2 2h14c1.1 0 2-.9 2-2V5c0-1.1-.9-2-2-2zM9 17H7v-7h2v7zm4 0h-2V7h2v10zm4 0h-2v-4h2v4z\"/>\n",
              "    </g>\n",
              "</svg>\n",
              "      </button>\n",
              "\n",
              "<style>\n",
              "  .colab-df-quickchart {\n",
              "      --bg-color: #E8F0FE;\n",
              "      --fill-color: #1967D2;\n",
              "      --hover-bg-color: #E2EBFA;\n",
              "      --hover-fill-color: #174EA6;\n",
              "      --disabled-fill-color: #AAA;\n",
              "      --disabled-bg-color: #DDD;\n",
              "  }\n",
              "\n",
              "  [theme=dark] .colab-df-quickchart {\n",
              "      --bg-color: #3B4455;\n",
              "      --fill-color: #D2E3FC;\n",
              "      --hover-bg-color: #434B5C;\n",
              "      --hover-fill-color: #FFFFFF;\n",
              "      --disabled-bg-color: #3B4455;\n",
              "      --disabled-fill-color: #666;\n",
              "  }\n",
              "\n",
              "  .colab-df-quickchart {\n",
              "    background-color: var(--bg-color);\n",
              "    border: none;\n",
              "    border-radius: 50%;\n",
              "    cursor: pointer;\n",
              "    display: none;\n",
              "    fill: var(--fill-color);\n",
              "    height: 32px;\n",
              "    padding: 0;\n",
              "    width: 32px;\n",
              "  }\n",
              "\n",
              "  .colab-df-quickchart:hover {\n",
              "    background-color: var(--hover-bg-color);\n",
              "    box-shadow: 0 1px 2px rgba(60, 64, 67, 0.3), 0 1px 3px 1px rgba(60, 64, 67, 0.15);\n",
              "    fill: var(--button-hover-fill-color);\n",
              "  }\n",
              "\n",
              "  .colab-df-quickchart-complete:disabled,\n",
              "  .colab-df-quickchart-complete:disabled:hover {\n",
              "    background-color: var(--disabled-bg-color);\n",
              "    fill: var(--disabled-fill-color);\n",
              "    box-shadow: none;\n",
              "  }\n",
              "\n",
              "  .colab-df-spinner {\n",
              "    border: 2px solid var(--fill-color);\n",
              "    border-color: transparent;\n",
              "    border-bottom-color: var(--fill-color);\n",
              "    animation:\n",
              "      spin 1s steps(1) infinite;\n",
              "  }\n",
              "\n",
              "  @keyframes spin {\n",
              "    0% {\n",
              "      border-color: transparent;\n",
              "      border-bottom-color: var(--fill-color);\n",
              "      border-left-color: var(--fill-color);\n",
              "    }\n",
              "    20% {\n",
              "      border-color: transparent;\n",
              "      border-left-color: var(--fill-color);\n",
              "      border-top-color: var(--fill-color);\n",
              "    }\n",
              "    30% {\n",
              "      border-color: transparent;\n",
              "      border-left-color: var(--fill-color);\n",
              "      border-top-color: var(--fill-color);\n",
              "      border-right-color: var(--fill-color);\n",
              "    }\n",
              "    40% {\n",
              "      border-color: transparent;\n",
              "      border-right-color: var(--fill-color);\n",
              "      border-top-color: var(--fill-color);\n",
              "    }\n",
              "    60% {\n",
              "      border-color: transparent;\n",
              "      border-right-color: var(--fill-color);\n",
              "    }\n",
              "    80% {\n",
              "      border-color: transparent;\n",
              "      border-right-color: var(--fill-color);\n",
              "      border-bottom-color: var(--fill-color);\n",
              "    }\n",
              "    90% {\n",
              "      border-color: transparent;\n",
              "      border-bottom-color: var(--fill-color);\n",
              "    }\n",
              "  }\n",
              "</style>\n",
              "\n",
              "      <script>\n",
              "        async function quickchart(key) {\n",
              "          const quickchartButtonEl =\n",
              "            document.querySelector('#' + key + ' button');\n",
              "          quickchartButtonEl.disabled = true;  // To prevent multiple clicks.\n",
              "          quickchartButtonEl.classList.add('colab-df-spinner');\n",
              "          try {\n",
              "            const charts = await google.colab.kernel.invokeFunction(\n",
              "                'suggestCharts', [key], {});\n",
              "          } catch (error) {\n",
              "            console.error('Error during call to suggestCharts:', error);\n",
              "          }\n",
              "          quickchartButtonEl.classList.remove('colab-df-spinner');\n",
              "          quickchartButtonEl.classList.add('colab-df-quickchart-complete');\n",
              "        }\n",
              "        (() => {\n",
              "          let quickchartButtonEl =\n",
              "            document.querySelector('#df-e5447b43-ca73-4b81-b9ef-f39fb9a857d6 button');\n",
              "          quickchartButtonEl.style.display =\n",
              "            google.colab.kernel.accessAllowed ? 'block' : 'none';\n",
              "        })();\n",
              "      </script>\n",
              "    </div>\n",
              "\n",
              "    </div>\n",
              "  </div>\n"
            ],
            "application/vnd.google.colaboratory.intrinsic+json": {
              "type": "dataframe",
              "summary": "{\n  \"name\": \"df[['group','ID']]\",\n  \"rows\": 3,\n  \"fields\": [\n    {\n      \"column\": \"group\",\n      \"properties\": {\n        \"dtype\": \"number\",\n        \"std\": 1,\n        \"min\": 1,\n        \"max\": 3,\n        \"num_unique_values\": 3,\n        \"samples\": [\n          1,\n          2,\n          3\n        ],\n        \"semantic_type\": \"\",\n        \"description\": \"\"\n      }\n    },\n    {\n      \"column\": \"ID\",\n      \"properties\": {\n        \"dtype\": \"number\",\n        \"std\": 6,\n        \"min\": 17,\n        \"max\": 29,\n        \"num_unique_values\": 3,\n        \"samples\": [\n          29,\n          26,\n          17\n        ],\n        \"semantic_type\": \"\",\n        \"description\": \"\"\n      }\n    }\n  ]\n}"
            }
          },
          "metadata": {},
          "execution_count": 17
        }
      ],
      "source": [
        "df[['group','ID']].groupby(['group']).count()"
      ]
    },
    {
      "cell_type": "code",
      "execution_count": 18,
      "metadata": {
        "colab": {
          "base_uri": "https://localhost:8080/",
          "height": 469
        },
        "id": "-X7lhYtiJiWe",
        "outputId": "304fff91-1e24-4f5e-a29c-4d859b24f63e"
      },
      "outputs": [
        {
          "output_type": "execute_result",
          "data": {
            "text/plain": [
              "array([[<Axes: title={'center': 'group'}>]], dtype=object)"
            ]
          },
          "metadata": {},
          "execution_count": 18
        },
        {
          "output_type": "display_data",
          "data": {
            "text/plain": [
              "<Figure size 640x480 with 1 Axes>"
            ],
            "image/png": "[encoded data removed]"
          },
          "metadata": {}
        }
      ],
      "source": [
        "df.hist(column='group')"
      ]
    },
    {
      "cell_type": "markdown",
      "metadata": {
        "id": "yjGARFGeJiWe"
      },
      "source": [
        "Así se ve mejor que el grupo 1 tiene más casos, seguido del grupo 2 y luego el 3, ¿verdad?"
      ]
    },
    {
      "cell_type": "markdown",
      "metadata": {
        "id": "D3wfi0F2JiWe"
      },
      "source": [
        "---"
      ]
    },
    {
      "cell_type": "markdown",
      "metadata": {
        "id": "NXxj2ITTJiWe"
      },
      "source": [
        "__QUESTIÓN PARA DEBATE 4__: Que información podemos sacar del promedio, de la mediana y de la moda abajo?"
      ]
    },
    {
      "cell_type": "code",
      "execution_count": 19,
      "metadata": {
        "colab": {
          "base_uri": "https://localhost:8080/",
          "height": 241
        },
        "id": "zJh5Dt1eJiWe",
        "outputId": "f0743206-32c4-405c-a306-4e846385c921"
      },
      "outputs": [
        {
          "output_type": "execute_result",
          "data": {
            "text/plain": [
              "ID        197.736111\n",
              "group       1.833333\n",
              "prewt      82.408333\n",
              "postwt     85.172222\n",
              "difwt       2.763889\n",
              "dtype: float64"
            ],
            "text/html": [
              "<div>\n",
              "<style scoped>\n",
              "    .dataframe tbody tr th:only-of-type {\n",
              "        vertical-align: middle;\n",
              "    }\n",
              "\n",
              "    .dataframe tbody tr th {\n",
              "        vertical-align: top;\n",
              "    }\n",
              "\n",
              "    .dataframe thead th {\n",
              "        text-align: right;\n",
              "    }\n",
              "</style>\n",
              "<table border=\"1\" class=\"dataframe\">\n",
              "  <thead>\n",
              "    <tr style=\"text-align: right;\">\n",
              "      <th></th>\n",
              "      <th>0</th>\n",
              "    </tr>\n",
              "  </thead>\n",
              "  <tbody>\n",
              "    <tr>\n",
              "      <th>ID</th>\n",
              "      <td>197.736111</td>\n",
              "    </tr>\n",
              "    <tr>\n",
              "      <th>group</th>\n",
              "      <td>1.833333</td>\n",
              "    </tr>\n",
              "    <tr>\n",
              "      <th>prewt</th>\n",
              "      <td>82.408333</td>\n",
              "    </tr>\n",
              "    <tr>\n",
              "      <th>postwt</th>\n",
              "      <td>85.172222</td>\n",
              "    </tr>\n",
              "    <tr>\n",
              "      <th>difwt</th>\n",
              "      <td>2.763889</td>\n",
              "    </tr>\n",
              "  </tbody>\n",
              "</table>\n",
              "</div><br><label><b>dtype:</b> float64</label>"
            ]
          },
          "metadata": {},
          "execution_count": 19
        }
      ],
      "source": [
        "df.mean()"
      ]
    },
    {
      "cell_type": "code",
      "execution_count": 20,
      "metadata": {
        "colab": {
          "base_uri": "https://localhost:8080/",
          "height": 241
        },
        "id": "hgpIXUHmJiWe",
        "outputId": "b5984fcb-a651-4d97-9e65-e23abf899282"
      },
      "outputs": [
        {
          "output_type": "execute_result",
          "data": {
            "text/plain": [
              "ID        208.50\n",
              "group       2.00\n",
              "prewt      82.30\n",
              "postwt     84.05\n",
              "difwt       1.65\n",
              "dtype: float64"
            ],
            "text/html": [
              "<div>\n",
              "<style scoped>\n",
              "    .dataframe tbody tr th:only-of-type {\n",
              "        vertical-align: middle;\n",
              "    }\n",
              "\n",
              "    .dataframe tbody tr th {\n",
              "        vertical-align: top;\n",
              "    }\n",
              "\n",
              "    .dataframe thead th {\n",
              "        text-align: right;\n",
              "    }\n",
              "</style>\n",
              "<table border=\"1\" class=\"dataframe\">\n",
              "  <thead>\n",
              "    <tr style=\"text-align: right;\">\n",
              "      <th></th>\n",
              "      <th>0</th>\n",
              "    </tr>\n",
              "  </thead>\n",
              "  <tbody>\n",
              "    <tr>\n",
              "      <th>ID</th>\n",
              "      <td>208.50</td>\n",
              "    </tr>\n",
              "    <tr>\n",
              "      <th>group</th>\n",
              "      <td>2.00</td>\n",
              "    </tr>\n",
              "    <tr>\n",
              "      <th>prewt</th>\n",
              "      <td>82.30</td>\n",
              "    </tr>\n",
              "    <tr>\n",
              "      <th>postwt</th>\n",
              "      <td>84.05</td>\n",
              "    </tr>\n",
              "    <tr>\n",
              "      <th>difwt</th>\n",
              "      <td>1.65</td>\n",
              "    </tr>\n",
              "  </tbody>\n",
              "</table>\n",
              "</div><br><label><b>dtype:</b> float64</label>"
            ]
          },
          "metadata": {},
          "execution_count": 20
        }
      ],
      "source": [
        "df.median()"
      ]
    },
    {
      "cell_type": "code",
      "execution_count": 21,
      "metadata": {
        "colab": {
          "base_uri": "https://localhost:8080/",
          "height": 115
        },
        "id": "CF9C9GwUJiWf",
        "outputId": "67b9dbbe-f621-4336-bfea-7d8e34b72f30"
      },
      "outputs": [
        {
          "output_type": "execute_result",
          "data": {
            "text/plain": [
              "0    1\n",
              "Name: group, dtype: int64"
            ],
            "text/html": [
              "<div>\n",
              "<style scoped>\n",
              "    .dataframe tbody tr th:only-of-type {\n",
              "        vertical-align: middle;\n",
              "    }\n",
              "\n",
              "    .dataframe tbody tr th {\n",
              "        vertical-align: top;\n",
              "    }\n",
              "\n",
              "    .dataframe thead th {\n",
              "        text-align: right;\n",
              "    }\n",
              "</style>\n",
              "<table border=\"1\" class=\"dataframe\">\n",
              "  <thead>\n",
              "    <tr style=\"text-align: right;\">\n",
              "      <th></th>\n",
              "      <th>group</th>\n",
              "    </tr>\n",
              "  </thead>\n",
              "  <tbody>\n",
              "    <tr>\n",
              "      <th>0</th>\n",
              "      <td>1</td>\n",
              "    </tr>\n",
              "  </tbody>\n",
              "</table>\n",
              "</div><br><label><b>dtype:</b> int64</label>"
            ]
          },
          "metadata": {},
          "execution_count": 21
        }
      ],
      "source": [
        "df.group.mode()"
      ]
    },
    {
      "cell_type": "markdown",
      "metadata": {
        "id": "ftT_-m6hJiWf"
      },
      "source": [
        "---"
      ]
    },
    {
      "cell_type": "markdown",
      "metadata": {
        "id": "LIt_eyo9JiWf"
      },
      "source": [
        "De forma aisladas dicha metricas dicen poco sobre nuestros datos, pero si aplicamos dichas metricas en los grupos 1, 2 y 3 nuestra analisis empieza ponerse interesante."
      ]
    },
    {
      "cell_type": "code",
      "execution_count": 22,
      "metadata": {
        "colab": {
          "base_uri": "https://localhost:8080/",
          "height": 174
        },
        "id": "43htS6ONJiWf",
        "outputId": "f88a0fe9-1ff0-43e1-85bb-18ef7e949454"
      },
      "outputs": [
        {
          "output_type": "execute_result",
          "data": {
            "text/plain": [
              "              ID      prewt     postwt     difwt\n",
              "group                                           \n",
              "1      118.37931  82.689655  85.696552  3.006897\n",
              "2      213.50000  81.557692  81.107692 -0.450000\n",
              "3      309.00000  83.229412  90.494118  7.264706"
            ],
            "text/html": [
              "\n",
              "  <div id=\"df-57841a90-34ca-400d-8052-4430326656c4\" class=\"colab-df-container\">\n",
              "    <div>\n",
              "<style scoped>\n",
              "    .dataframe tbody tr th:only-of-type {\n",
              "        vertical-align: middle;\n",
              "    }\n",
              "\n",
              "    .dataframe tbody tr th {\n",
              "        vertical-align: top;\n",
              "    }\n",
              "\n",
              "    .dataframe thead th {\n",
              "        text-align: right;\n",
              "    }\n",
              "</style>\n",
              "<table border=\"1\" class=\"dataframe\">\n",
              "  <thead>\n",
              "    <tr style=\"text-align: right;\">\n",
              "      <th></th>\n",
              "      <th>ID</th>\n",
              "      <th>prewt</th>\n",
              "      <th>postwt</th>\n",
              "      <th>difwt</th>\n",
              "    </tr>\n",
              "    <tr>\n",
              "      <th>group</th>\n",
              "      <th></th>\n",
              "      <th></th>\n",
              "      <th></th>\n",
              "      <th></th>\n",
              "    </tr>\n",
              "  </thead>\n",
              "  <tbody>\n",
              "    <tr>\n",
              "      <th>1</th>\n",
              "      <td>118.37931</td>\n",
              "      <td>82.689655</td>\n",
              "      <td>85.696552</td>\n",
              "      <td>3.006897</td>\n",
              "    </tr>\n",
              "    <tr>\n",
              "      <th>2</th>\n",
              "      <td>213.50000</td>\n",
              "      <td>81.557692</td>\n",
              "      <td>81.107692</td>\n",
              "      <td>-0.450000</td>\n",
              "    </tr>\n",
              "    <tr>\n",
              "      <th>3</th>\n",
              "      <td>309.00000</td>\n",
              "      <td>83.229412</td>\n",
              "      <td>90.494118</td>\n",
              "      <td>7.264706</td>\n",
              "    </tr>\n",
              "  </tbody>\n",
              "</table>\n",
              "</div>\n",
              "    <div class=\"colab-df-buttons\">\n",
              "\n",
              "  <div class=\"colab-df-container\">\n",
              "    <button class=\"colab-df-convert\" onclick=\"convertToInteractive('df-57841a90-34ca-400d-8052-4430326656c4')\"\n",
              "            title=\"Convert this dataframe to an interactive table.\"\n",
              "            style=\"display:none;\">\n",
              "\n",
              "  <svg xmlns=\"http://www.w3.org/2000/svg\" height=\"24px\" viewBox=\"0 -960 960 960\">\n",
              "    <path d=\"M120-120v-720h720v720H120Zm60-500h600v-160H180v160Zm220 220h160v-160H400v160Zm0 220h160v-160H400v160ZM180-400h160v-160H180v160Zm440 0h160v-160H620v160ZM180-180h160v-160H180v160Zm440 0h160v-160H620v160Z\"/>\n",
              "  </svg>\n",
              "    </button>\n",
              "\n",
              "  <style>\n",
              "    .colab-df-container {\n",
              "      display:flex;\n",
              "      gap: 12px;\n",
              "    }\n",
              "\n",
              "    .colab-df-convert {\n",
              "      background-color: #E8F0FE;\n",
              "      border: none;\n",
              "      border-radius: 50%;\n",
              "      cursor: pointer;\n",
              "      display: none;\n",
              "      fill: #1967D2;\n",
              "      height: 32px;\n",
              "      padding: 0 0 0 0;\n",
              "      width: 32px;\n",
              "    }\n",
              "\n",
              "    .colab-df-convert:hover {\n",
              "      background-color: #E2EBFA;\n",
              "      box-shadow: 0px 1px 2px rgba(60, 64, 67, 0.3), 0px 1px 3px 1px rgba(60, 64, 67, 0.15);\n",
              "      fill: #174EA6;\n",
              "    }\n",
              "\n",
              "    .colab-df-buttons div {\n",
              "      margin-bottom: 4px;\n",
              "    }\n",
              "\n",
              "    [theme=dark] .colab-df-convert {\n",
              "      background-color: #3B4455;\n",
              "      fill: #D2E3FC;\n",
              "    }\n",
              "\n",
              "    [theme=dark] .colab-df-convert:hover {\n",
              "      background-color: #434B5C;\n",
              "      box-shadow: 0px 1px 3px 1px rgba(0, 0, 0, 0.15);\n",
              "      filter: drop-shadow(0px 1px 2px rgba(0, 0, 0, 0.3));\n",
              "      fill: #FFFFFF;\n",
              "    }\n",
              "  </style>\n",
              "\n",
              "    <script>\n",
              "      const buttonEl =\n",
              "        document.querySelector('#df-57841a90-34ca-400d-8052-4430326656c4 button.colab-df-convert');\n",
              "      buttonEl.style.display =\n",
              "        google.colab.kernel.accessAllowed ? 'block' : 'none';\n",
              "\n",
              "      async function convertToInteractive(key) {\n",
              "        const element = document.querySelector('#df-57841a90-34ca-400d-8052-4430326656c4');\n",
              "        const dataTable =\n",
              "          await google.colab.kernel.invokeFunction('convertToInteractive',\n",
              "                                                    [key], {});\n",
              "        if (!dataTable) return;\n",
              "\n",
              "        const docLinkHtml = 'Like what you see? Visit the ' +\n",
              "          '<a target=\"_blank\" href=https://colab.research.google.com/notebooks/data_table.ipynb>data table notebook</a>'\n",
              "          + ' to learn more about interactive tables.';\n",
              "        element.innerHTML = '';\n",
              "        dataTable['output_type'] = 'display_data';\n",
              "        await google.colab.output.renderOutput(dataTable, element);\n",
              "        const docLink = document.createElement('div');\n",
              "        docLink.innerHTML = docLinkHtml;\n",
              "        element.appendChild(docLink);\n",
              "      }\n",
              "    </script>\n",
              "  </div>\n",
              "\n",
              "\n",
              "    <div id=\"df-aa47b6b0-37b7-4bdb-a3ae-174842ab16a8\">\n",
              "      <button class=\"colab-df-quickchart\" onclick=\"quickchart('df-aa47b6b0-37b7-4bdb-a3ae-174842ab16a8')\"\n",
              "                title=\"Suggest charts\"\n",
              "                style=\"display:none;\">\n",
              "\n",
              "<svg xmlns=\"http://www.w3.org/2000/svg\" height=\"24px\"viewBox=\"0 0 24 24\"\n",
              "     width=\"24px\">\n",
              "    <g>\n",
              "        <path d=\"M19 3H5c-1.1 0-2 .9-2 2v14c0 1.1.9 2 2 2h14c1.1 0 2-.9 2-2V5c0-1.1-.9-2-2-2zM9 17H7v-7h2v7zm4 0h-2V7h2v10zm4 0h-2v-4h2v4z\"/>\n",
              "    </g>\n",
              "</svg>\n",
              "      </button>\n",
              "\n",
              "<style>\n",
              "  .colab-df-quickchart {\n",
              "      --bg-color: #E8F0FE;\n",
              "      --fill-color: #1967D2;\n",
              "      --hover-bg-color: #E2EBFA;\n",
              "      --hover-fill-color: #174EA6;\n",
              "      --disabled-fill-color: #AAA;\n",
              "      --disabled-bg-color: #DDD;\n",
              "  }\n",
              "\n",
              "  [theme=dark] .colab-df-quickchart {\n",
              "      --bg-color: #3B4455;\n",
              "      --fill-color: #D2E3FC;\n",
              "      --hover-bg-color: #434B5C;\n",
              "      --hover-fill-color: #FFFFFF;\n",
              "      --disabled-bg-color: #3B4455;\n",
              "      --disabled-fill-color: #666;\n",
              "  }\n",
              "\n",
              "  .colab-df-quickchart {\n",
              "    background-color: var(--bg-color);\n",
              "    border: none;\n",
              "    border-radius: 50%;\n",
              "    cursor: pointer;\n",
              "    display: none;\n",
              "    fill: var(--fill-color);\n",
              "    height: 32px;\n",
              "    padding: 0;\n",
              "    width: 32px;\n",
              "  }\n",
              "\n",
              "  .colab-df-quickchart:hover {\n",
              "    background-color: var(--hover-bg-color);\n",
              "    box-shadow: 0 1px 2px rgba(60, 64, 67, 0.3), 0 1px 3px 1px rgba(60, 64, 67, 0.15);\n",
              "    fill: var(--button-hover-fill-color);\n",
              "  }\n",
              "\n",
              "  .colab-df-quickchart-complete:disabled,\n",
              "  .colab-df-quickchart-complete:disabled:hover {\n",
              "    background-color: var(--disabled-bg-color);\n",
              "    fill: var(--disabled-fill-color);\n",
              "    box-shadow: none;\n",
              "  }\n",
              "\n",
              "  .colab-df-spinner {\n",
              "    border: 2px solid var(--fill-color);\n",
              "    border-color: transparent;\n",
              "    border-bottom-color: var(--fill-color);\n",
              "    animation:\n",
              "      spin 1s steps(1) infinite;\n",
              "  }\n",
              "\n",
              "  @keyframes spin {\n",
              "    0% {\n",
              "      border-color: transparent;\n",
              "      border-bottom-color: var(--fill-color);\n",
              "      border-left-color: var(--fill-color);\n",
              "    }\n",
              "    20% {\n",
              "      border-color: transparent;\n",
              "      border-left-color: var(--fill-color);\n",
              "      border-top-color: var(--fill-color);\n",
              "    }\n",
              "    30% {\n",
              "      border-color: transparent;\n",
              "      border-left-color: var(--fill-color);\n",
              "      border-top-color: var(--fill-color);\n",
              "      border-right-color: var(--fill-color);\n",
              "    }\n",
              "    40% {\n",
              "      border-color: transparent;\n",
              "      border-right-color: var(--fill-color);\n",
              "      border-top-color: var(--fill-color);\n",
              "    }\n",
              "    60% {\n",
              "      border-color: transparent;\n",
              "      border-right-color: var(--fill-color);\n",
              "    }\n",
              "    80% {\n",
              "      border-color: transparent;\n",
              "      border-right-color: var(--fill-color);\n",
              "      border-bottom-color: var(--fill-color);\n",
              "    }\n",
              "    90% {\n",
              "      border-color: transparent;\n",
              "      border-bottom-color: var(--fill-color);\n",
              "    }\n",
              "  }\n",
              "</style>\n",
              "\n",
              "      <script>\n",
              "        async function quickchart(key) {\n",
              "          const quickchartButtonEl =\n",
              "            document.querySelector('#' + key + ' button');\n",
              "          quickchartButtonEl.disabled = true;  // To prevent multiple clicks.\n",
              "          quickchartButtonEl.classList.add('colab-df-spinner');\n",
              "          try {\n",
              "            const charts = await google.colab.kernel.invokeFunction(\n",
              "                'suggestCharts', [key], {});\n",
              "          } catch (error) {\n",
              "            console.error('Error during call to suggestCharts:', error);\n",
              "          }\n",
              "          quickchartButtonEl.classList.remove('colab-df-spinner');\n",
              "          quickchartButtonEl.classList.add('colab-df-quickchart-complete');\n",
              "        }\n",
              "        (() => {\n",
              "          let quickchartButtonEl =\n",
              "            document.querySelector('#df-aa47b6b0-37b7-4bdb-a3ae-174842ab16a8 button');\n",
              "          quickchartButtonEl.style.display =\n",
              "            google.colab.kernel.accessAllowed ? 'block' : 'none';\n",
              "        })();\n",
              "      </script>\n",
              "    </div>\n",
              "\n",
              "    </div>\n",
              "  </div>\n"
            ],
            "application/vnd.google.colaboratory.intrinsic+json": {
              "type": "dataframe",
              "summary": "{\n  \"name\": \"df\",\n  \"rows\": 3,\n  \"fields\": [\n    {\n      \"column\": \"group\",\n      \"properties\": {\n        \"dtype\": \"number\",\n        \"std\": 1,\n        \"min\": 1,\n        \"max\": 3,\n        \"num_unique_values\": 3,\n        \"samples\": [\n          1,\n          2,\n          3\n        ],\n        \"semantic_type\": \"\",\n        \"description\": \"\"\n      }\n    },\n    {\n      \"column\": \"ID\",\n      \"properties\": {\n        \"dtype\": \"number\",\n        \"std\": 95.31040772574733,\n        \"min\": 118.37931034482759,\n        \"max\": 309.0,\n        \"num_unique_values\": 3,\n        \"samples\": [\n          118.37931034482759,\n          213.5,\n          309.0\n        ],\n        \"semantic_type\": \"\",\n        \"description\": \"\"\n      }\n    },\n    {\n      \"column\": \"prewt\",\n      \"properties\": {\n        \"dtype\": \"number\",\n        \"std\": 0.8531630411776547,\n        \"min\": 81.5576923076923,\n        \"max\": 83.22941176470589,\n        \"num_unique_values\": 3,\n        \"samples\": [\n          82.6896551724138,\n          81.5576923076923,\n          83.22941176470589\n        ],\n        \"semantic_type\": \"\",\n        \"description\": \"\"\n      }\n    },\n    {\n      \"column\": \"postwt\",\n      \"properties\": {\n        \"dtype\": \"number\",\n        \"std\": 4.6935993682918005,\n        \"min\": 81.10769230769232,\n        \"max\": 90.49411764705883,\n        \"num_unique_values\": 3,\n        \"samples\": [\n          85.69655172413792,\n          81.10769230769232,\n          90.49411764705883\n        ],\n        \"semantic_type\": \"\",\n        \"description\": \"\"\n      }\n    },\n    {\n      \"column\": \"difwt\",\n      \"properties\": {\n        \"dtype\": \"number\",\n        \"std\": 3.864275717313724,\n        \"min\": -0.44999999999999984,\n        \"max\": 7.264705882352941,\n        \"num_unique_values\": 3,\n        \"samples\": [\n          3.006896551724138,\n          -0.44999999999999984,\n          7.264705882352941\n        ],\n        \"semantic_type\": \"\",\n        \"description\": \"\"\n      }\n    }\n  ]\n}"
            }
          },
          "metadata": {},
          "execution_count": 22
        }
      ],
      "source": [
        "df.groupby(['group']).mean()"
      ]
    },
    {
      "cell_type": "markdown",
      "metadata": {
        "id": "U8bblTrIJiWf"
      },
      "source": [
        "__QUESTIÓN PARA DEBATE 5__: Que información podemos sacar del promedio y la mediana por grupo (es decir por tratamiento 1-Individual, 2-Control y 3-Familiar)? Que tratamiento parece que funciona mejor?"
      ]
    },
    {
      "cell_type": "markdown",
      "metadata": {
        "id": "33OWCxiaJiWf"
      },
      "source": [
        "---"
      ]
    },
    {
      "cell_type": "markdown",
      "metadata": {
        "id": "kmOaZGGLJiWf"
      },
      "source": [
        "Bueno, para estar seguro sobre nuestra analisis con las medidas de tendencia central. Necesitamos conocer las medidas dispersión de nuestra población."
      ]
    },
    {
      "cell_type": "markdown",
      "metadata": {
        "id": "-kpRfgSSJiWf"
      },
      "source": [
        "---"
      ]
    },
    {
      "cell_type": "markdown",
      "metadata": {
        "id": "CoD8ti16JiWf"
      },
      "source": [
        "## PART 2 - Measure of Spread - Medidas de dispersión"
      ]
    },
    {
      "cell_type": "markdown",
      "metadata": {
        "id": "Vk7UkyBvJiWg"
      },
      "source": [
        "### Min\n",
        "\n",
        "El min representa el menor valor en un conjunto de datos. Entonces calculamos el rango como:\n",
        "\n",
        "\\begin{equation*}\n",
        "Minimo = [Valor Mínimo]\n",
        "\\end{equation*}"
      ]
    },
    {
      "cell_type": "markdown",
      "metadata": {
        "id": "dC__AdklJiWg"
      },
      "source": [
        "Volvamos a coger el ejemplo de los primeros 11 valores de nuestra variable peso __prewt__ que  sabemos indica el peso del paciente antes del período de estudio, en libras."
      ]
    },
    {
      "cell_type": "code",
      "execution_count": 23,
      "metadata": {
        "colab": {
          "base_uri": "https://localhost:8080/"
        },
        "id": "GQ_tAcbuJiWg",
        "outputId": "dfb6ccc4-37e2-48ad-fdee-f82f45c67998"
      },
      "outputs": [
        {
          "output_type": "stream",
          "name": "stdout",
          "text": [
            "[80.5, 80.7, 83.8, 84.9, 89.4, 83.3, 81.5, 91.8, 86.0, 82.6, 74.0]\n"
          ]
        }
      ],
      "source": [
        "a = list(df.prewt.head(11));print(a)"
      ]
    },
    {
      "cell_type": "code",
      "execution_count": 24,
      "metadata": {
        "colab": {
          "base_uri": "https://localhost:8080/"
        },
        "id": "qTNVtnCbJiWg",
        "outputId": "e1d37a7d-9084-4759-fbd3-72a7bddde7c5"
      },
      "outputs": [
        {
          "output_type": "execute_result",
          "data": {
            "text/plain": [
              "74.0"
            ]
          },
          "metadata": {},
          "execution_count": 24
        }
      ],
      "source": [
        "min(a)"
      ]
    },
    {
      "cell_type": "markdown",
      "metadata": {
        "id": "Niqj1MkCJiWg"
      },
      "source": [
        "### Max\n",
        "\n",
        "El max representa el mayor valor en un conjunto de datos. Entonces calculamos el rango como:\n",
        "\n",
        "\\begin{equation*}\n",
        "Minimo = [Valor Máximo]\n",
        "\\end{equation*}"
      ]
    },
    {
      "cell_type": "code",
      "execution_count": 25,
      "metadata": {
        "colab": {
          "base_uri": "https://localhost:8080/"
        },
        "id": "KFXrDGAKJiWg",
        "outputId": "fe3ca911-7632-46f4-d6c8-ac2696263d44"
      },
      "outputs": [
        {
          "output_type": "execute_result",
          "data": {
            "text/plain": [
              "91.8"
            ]
          },
          "metadata": {},
          "execution_count": 25
        }
      ],
      "source": [
        "max(a)"
      ]
    },
    {
      "cell_type": "markdown",
      "metadata": {
        "id": "IUtcsVKDJiWg"
      },
      "source": [
        "### Range - Rango"
      ]
    },
    {
      "cell_type": "markdown",
      "metadata": {
        "id": "8nnrjnvDJiWg"
      },
      "source": [
        "El rango es la diferencia entre el mayor valor y el menor valor en un conjunto de datos y es la medida más simple de la propagación. Entonces calculamos el rango como:"
      ]
    },
    {
      "cell_type": "markdown",
      "metadata": {
        "id": "VLqSmShTJiWg"
      },
      "source": [
        "\n",
        "\\begin{equation*}\n",
        "Rango = [Valor Máximo] - [Valor Mínimo]\n",
        "\\end{equation*}"
      ]
    },
    {
      "cell_type": "markdown",
      "metadata": {
        "id": "iHNaRr66JiWh"
      },
      "source": [
        "Por lo que el rango es:"
      ]
    },
    {
      "cell_type": "code",
      "execution_count": 26,
      "metadata": {
        "colab": {
          "base_uri": "https://localhost:8080/"
        },
        "id": "j_9hgfaPJiWh",
        "outputId": "02e34e57-ceb3-4261-de61-c6b7c028de9e"
      },
      "outputs": [
        {
          "output_type": "execute_result",
          "data": {
            "text/plain": [
              "17.799999999999997"
            ]
          },
          "metadata": {},
          "execution_count": 26
        }
      ],
      "source": [
        "max(a)-min(a)"
      ]
    },
    {
      "cell_type": "markdown",
      "metadata": {
        "id": "vgue1fjTJiWh"
      },
      "source": [
        "Calculando el rango en numpy/pandas para todas las variables."
      ]
    },
    {
      "cell_type": "code",
      "execution_count": 27,
      "metadata": {
        "colab": {
          "base_uri": "https://localhost:8080/",
          "height": 174
        },
        "id": "s-ahawKrJiWh",
        "outputId": "6a53ad9d-004d-475b-f829-c6ac8ae21b9c"
      },
      "outputs": [
        {
          "output_type": "execute_result",
          "data": {
            "text/plain": [
              "        ID  prewt  postwt  difwt\n",
              "group                           \n",
              "1      227   94.9   103.6   20.9\n",
              "2      226   91.8    89.6   15.9\n",
              "3      317   94.2   101.6   21.5"
            ],
            "text/html": [
              "\n",
              "  <div id=\"df-4ac1d47e-dd03-4b98-9f82-23678feeaf95\" class=\"colab-df-container\">\n",
              "    <div>\n",
              "<style scoped>\n",
              "    .dataframe tbody tr th:only-of-type {\n",
              "        vertical-align: middle;\n",
              "    }\n",
              "\n",
              "    .dataframe tbody tr th {\n",
              "        vertical-align: top;\n",
              "    }\n",
              "\n",
              "    .dataframe thead th {\n",
              "        text-align: right;\n",
              "    }\n",
              "</style>\n",
              "<table border=\"1\" class=\"dataframe\">\n",
              "  <thead>\n",
              "    <tr style=\"text-align: right;\">\n",
              "      <th></th>\n",
              "      <th>ID</th>\n",
              "      <th>prewt</th>\n",
              "      <th>postwt</th>\n",
              "      <th>difwt</th>\n",
              "    </tr>\n",
              "    <tr>\n",
              "      <th>group</th>\n",
              "      <th></th>\n",
              "      <th></th>\n",
              "      <th></th>\n",
              "      <th></th>\n",
              "    </tr>\n",
              "  </thead>\n",
              "  <tbody>\n",
              "    <tr>\n",
              "      <th>1</th>\n",
              "      <td>227</td>\n",
              "      <td>94.9</td>\n",
              "      <td>103.6</td>\n",
              "      <td>20.9</td>\n",
              "    </tr>\n",
              "    <tr>\n",
              "      <th>2</th>\n",
              "      <td>226</td>\n",
              "      <td>91.8</td>\n",
              "      <td>89.6</td>\n",
              "      <td>15.9</td>\n",
              "    </tr>\n",
              "    <tr>\n",
              "      <th>3</th>\n",
              "      <td>317</td>\n",
              "      <td>94.2</td>\n",
              "      <td>101.6</td>\n",
              "      <td>21.5</td>\n",
              "    </tr>\n",
              "  </tbody>\n",
              "</table>\n",
              "</div>\n",
              "    <div class=\"colab-df-buttons\">\n",
              "\n",
              "  <div class=\"colab-df-container\">\n",
              "    <button class=\"colab-df-convert\" onclick=\"convertToInteractive('df-4ac1d47e-dd03-4b98-9f82-23678feeaf95')\"\n",
              "            title=\"Convert this dataframe to an interactive table.\"\n",
              "            style=\"display:none;\">\n",
              "\n",
              "  <svg xmlns=\"http://www.w3.org/2000/svg\" height=\"24px\" viewBox=\"0 -960 960 960\">\n",
              "    <path d=\"M120-120v-720h720v720H120Zm60-500h600v-160H180v160Zm220 220h160v-160H400v160Zm0 220h160v-160H400v160ZM180-400h160v-160H180v160Zm440 0h160v-160H620v160ZM180-180h160v-160H180v160Zm440 0h160v-160H620v160Z\"/>\n",
              "  </svg>\n",
              "    </button>\n",
              "\n",
              "  <style>\n",
              "    .colab-df-container {\n",
              "      display:flex;\n",
              "      gap: 12px;\n",
              "    }\n",
              "\n",
              "    .colab-df-convert {\n",
              "      background-color: #E8F0FE;\n",
              "      border: none;\n",
              "      border-radius: 50%;\n",
              "      cursor: pointer;\n",
              "      display: none;\n",
              "      fill: #1967D2;\n",
              "      height: 32px;\n",
              "      padding: 0 0 0 0;\n",
              "      width: 32px;\n",
              "    }\n",
              "\n",
              "    .colab-df-convert:hover {\n",
              "      background-color: #E2EBFA;\n",
              "      box-shadow: 0px 1px 2px rgba(60, 64, 67, 0.3), 0px 1px 3px 1px rgba(60, 64, 67, 0.15);\n",
              "      fill: #174EA6;\n",
              "    }\n",
              "\n",
              "    .colab-df-buttons div {\n",
              "      margin-bottom: 4px;\n",
              "    }\n",
              "\n",
              "    [theme=dark] .colab-df-convert {\n",
              "      background-color: #3B4455;\n",
              "      fill: #D2E3FC;\n",
              "    }\n",
              "\n",
              "    [theme=dark] .colab-df-convert:hover {\n",
              "      background-color: #434B5C;\n",
              "      box-shadow: 0px 1px 3px 1px rgba(0, 0, 0, 0.15);\n",
              "      filter: drop-shadow(0px 1px 2px rgba(0, 0, 0, 0.3));\n",
              "      fill: #FFFFFF;\n",
              "    }\n",
              "  </style>\n",
              "\n",
              "    <script>\n",
              "      const buttonEl =\n",
              "        document.querySelector('#df-4ac1d47e-dd03-4b98-9f82-23678feeaf95 button.colab-df-convert');\n",
              "      buttonEl.style.display =\n",
              "        google.colab.kernel.accessAllowed ? 'block' : 'none';\n",
              "\n",
              "      async function convertToInteractive(key) {\n",
              "        const element = document.querySelector('#df-4ac1d47e-dd03-4b98-9f82-23678feeaf95');\n",
              "        const dataTable =\n",
              "          await google.colab.kernel.invokeFunction('convertToInteractive',\n",
              "                                                    [key], {});\n",
              "        if (!dataTable) return;\n",
              "\n",
              "        const docLinkHtml = 'Like what you see? Visit the ' +\n",
              "          '<a target=\"_blank\" href=https://colab.research.google.com/notebooks/data_table.ipynb>data table notebook</a>'\n",
              "          + ' to learn more about interactive tables.';\n",
              "        element.innerHTML = '';\n",
              "        dataTable['output_type'] = 'display_data';\n",
              "        await google.colab.output.renderOutput(dataTable, element);\n",
              "        const docLink = document.createElement('div');\n",
              "        docLink.innerHTML = docLinkHtml;\n",
              "        element.appendChild(docLink);\n",
              "      }\n",
              "    </script>\n",
              "  </div>\n",
              "\n",
              "\n",
              "    <div id=\"df-6728dc91-0002-43a5-b94c-009d18b5c5d5\">\n",
              "      <button class=\"colab-df-quickchart\" onclick=\"quickchart('df-6728dc91-0002-43a5-b94c-009d18b5c5d5')\"\n",
              "                title=\"Suggest charts\"\n",
              "                style=\"display:none;\">\n",
              "\n",
              "<svg xmlns=\"http://www.w3.org/2000/svg\" height=\"24px\"viewBox=\"0 0 24 24\"\n",
              "     width=\"24px\">\n",
              "    <g>\n",
              "        <path d=\"M19 3H5c-1.1 0-2 .9-2 2v14c0 1.1.9 2 2 2h14c1.1 0 2-.9 2-2V5c0-1.1-.9-2-2-2zM9 17H7v-7h2v7zm4 0h-2V7h2v10zm4 0h-2v-4h2v4z\"/>\n",
              "    </g>\n",
              "</svg>\n",
              "      </button>\n",
              "\n",
              "<style>\n",
              "  .colab-df-quickchart {\n",
              "      --bg-color: #E8F0FE;\n",
              "      --fill-color: #1967D2;\n",
              "      --hover-bg-color: #E2EBFA;\n",
              "      --hover-fill-color: #174EA6;\n",
              "      --disabled-fill-color: #AAA;\n",
              "      --disabled-bg-color: #DDD;\n",
              "  }\n",
              "\n",
              "  [theme=dark] .colab-df-quickchart {\n",
              "      --bg-color: #3B4455;\n",
              "      --fill-color: #D2E3FC;\n",
              "      --hover-bg-color: #434B5C;\n",
              "      --hover-fill-color: #FFFFFF;\n",
              "      --disabled-bg-color: #3B4455;\n",
              "      --disabled-fill-color: #666;\n",
              "  }\n",
              "\n",
              "  .colab-df-quickchart {\n",
              "    background-color: var(--bg-color);\n",
              "    border: none;\n",
              "    border-radius: 50%;\n",
              "    cursor: pointer;\n",
              "    display: none;\n",
              "    fill: var(--fill-color);\n",
              "    height: 32px;\n",
              "    padding: 0;\n",
              "    width: 32px;\n",
              "  }\n",
              "\n",
              "  .colab-df-quickchart:hover {\n",
              "    background-color: var(--hover-bg-color);\n",
              "    box-shadow: 0 1px 2px rgba(60, 64, 67, 0.3), 0 1px 3px 1px rgba(60, 64, 67, 0.15);\n",
              "    fill: var(--button-hover-fill-color);\n",
              "  }\n",
              "\n",
              "  .colab-df-quickchart-complete:disabled,\n",
              "  .colab-df-quickchart-complete:disabled:hover {\n",
              "    background-color: var(--disabled-bg-color);\n",
              "    fill: var(--disabled-fill-color);\n",
              "    box-shadow: none;\n",
              "  }\n",
              "\n",
              "  .colab-df-spinner {\n",
              "    border: 2px solid var(--fill-color);\n",
              "    border-color: transparent;\n",
              "    border-bottom-color: var(--fill-color);\n",
              "    animation:\n",
              "      spin 1s steps(1) infinite;\n",
              "  }\n",
              "\n",
              "  @keyframes spin {\n",
              "    0% {\n",
              "      border-color: transparent;\n",
              "      border-bottom-color: var(--fill-color);\n",
              "      border-left-color: var(--fill-color);\n",
              "    }\n",
              "    20% {\n",
              "      border-color: transparent;\n",
              "      border-left-color: var(--fill-color);\n",
              "      border-top-color: var(--fill-color);\n",
              "    }\n",
              "    30% {\n",
              "      border-color: transparent;\n",
              "      border-left-color: var(--fill-color);\n",
              "      border-top-color: var(--fill-color);\n",
              "      border-right-color: var(--fill-color);\n",
              "    }\n",
              "    40% {\n",
              "      border-color: transparent;\n",
              "      border-right-color: var(--fill-color);\n",
              "      border-top-color: var(--fill-color);\n",
              "    }\n",
              "    60% {\n",
              "      border-color: transparent;\n",
              "      border-right-color: var(--fill-color);\n",
              "    }\n",
              "    80% {\n",
              "      border-color: transparent;\n",
              "      border-right-color: var(--fill-color);\n",
              "      border-bottom-color: var(--fill-color);\n",
              "    }\n",
              "    90% {\n",
              "      border-color: transparent;\n",
              "      border-bottom-color: var(--fill-color);\n",
              "    }\n",
              "  }\n",
              "</style>\n",
              "\n",
              "      <script>\n",
              "        async function quickchart(key) {\n",
              "          const quickchartButtonEl =\n",
              "            document.querySelector('#' + key + ' button');\n",
              "          quickchartButtonEl.disabled = true;  // To prevent multiple clicks.\n",
              "          quickchartButtonEl.classList.add('colab-df-spinner');\n",
              "          try {\n",
              "            const charts = await google.colab.kernel.invokeFunction(\n",
              "                'suggestCharts', [key], {});\n",
              "          } catch (error) {\n",
              "            console.error('Error during call to suggestCharts:', error);\n",
              "          }\n",
              "          quickchartButtonEl.classList.remove('colab-df-spinner');\n",
              "          quickchartButtonEl.classList.add('colab-df-quickchart-complete');\n",
              "        }\n",
              "        (() => {\n",
              "          let quickchartButtonEl =\n",
              "            document.querySelector('#df-6728dc91-0002-43a5-b94c-009d18b5c5d5 button');\n",
              "          quickchartButtonEl.style.display =\n",
              "            google.colab.kernel.accessAllowed ? 'block' : 'none';\n",
              "        })();\n",
              "      </script>\n",
              "    </div>\n",
              "\n",
              "    </div>\n",
              "  </div>\n"
            ],
            "application/vnd.google.colaboratory.intrinsic+json": {
              "type": "dataframe",
              "summary": "{\n  \"name\": \"df\",\n  \"rows\": 3,\n  \"fields\": [\n    {\n      \"column\": \"group\",\n      \"properties\": {\n        \"dtype\": \"number\",\n        \"std\": 1,\n        \"min\": 1,\n        \"max\": 3,\n        \"num_unique_values\": 3,\n        \"samples\": [\n          1,\n          2,\n          3\n        ],\n        \"semantic_type\": \"\",\n        \"description\": \"\"\n      }\n    },\n    {\n      \"column\": \"ID\",\n      \"properties\": {\n        \"dtype\": \"number\",\n        \"std\": 52,\n        \"min\": 226,\n        \"max\": 317,\n        \"num_unique_values\": 3,\n        \"samples\": [\n          227,\n          226,\n          317\n        ],\n        \"semantic_type\": \"\",\n        \"description\": \"\"\n      }\n    },\n    {\n      \"column\": \"prewt\",\n      \"properties\": {\n        \"dtype\": \"number\",\n        \"std\": 1.6258331197676308,\n        \"min\": 91.8,\n        \"max\": 94.9,\n        \"num_unique_values\": 3,\n        \"samples\": [\n          94.9,\n          91.8,\n          94.2\n        ],\n        \"semantic_type\": \"\",\n        \"description\": \"\"\n      }\n    },\n    {\n      \"column\": \"postwt\",\n      \"properties\": {\n        \"dtype\": \"number\",\n        \"std\": 7.571877794400365,\n        \"min\": 89.6,\n        \"max\": 103.6,\n        \"num_unique_values\": 3,\n        \"samples\": [\n          103.6,\n          89.6,\n          101.6\n        ],\n        \"semantic_type\": \"\",\n        \"description\": \"\"\n      }\n    },\n    {\n      \"column\": \"difwt\",\n      \"properties\": {\n        \"dtype\": \"number\",\n        \"std\": 3.0746273486933875,\n        \"min\": 15.9,\n        \"max\": 21.5,\n        \"num_unique_values\": 3,\n        \"samples\": [\n          20.9,\n          15.9,\n          21.5\n        ],\n        \"semantic_type\": \"\",\n        \"description\": \"\"\n      }\n    }\n  ]\n}"
            }
          },
          "metadata": {},
          "execution_count": 27
        }
      ],
      "source": [
        "df.groupby(['group']).max()"
      ]
    },
    {
      "cell_type": "code",
      "execution_count": 28,
      "metadata": {
        "colab": {
          "base_uri": "https://localhost:8080/",
          "height": 174
        },
        "id": "d49CvivbJiWh",
        "outputId": "76d3adda-d9f6-4883-c3b4-9e16951f2c33"
      },
      "outputs": [
        {
          "output_type": "execute_result",
          "data": {
            "text/plain": [
              "        ID  prewt  postwt  difwt\n",
              "group                           \n",
              "1      101   70.0    71.3   -9.1\n",
              "2      201   70.5    73.0  -12.2\n",
              "3      301   73.4    75.2   -5.3"
            ],
            "text/html": [
              "\n",
              "  <div id=\"df-509bea46-0cab-4d01-a853-5ffc15f48588\" class=\"colab-df-container\">\n",
              "    <div>\n",
              "<style scoped>\n",
              "    .dataframe tbody tr th:only-of-type {\n",
              "        vertical-align: middle;\n",
              "    }\n",
              "\n",
              "    .dataframe tbody tr th {\n",
              "        vertical-align: top;\n",
              "    }\n",
              "\n",
              "    .dataframe thead th {\n",
              "        text-align: right;\n",
              "    }\n",
              "</style>\n",
              "<table border=\"1\" class=\"dataframe\">\n",
              "  <thead>\n",
              "    <tr style=\"text-align: right;\">\n",
              "      <th></th>\n",
              "      <th>ID</th>\n",
              "      <th>prewt</th>\n",
              "      <th>postwt</th>\n",
              "      <th>difwt</th>\n",
              "    </tr>\n",
              "    <tr>\n",
              "      <th>group</th>\n",
              "      <th></th>\n",
              "      <th></th>\n",
              "      <th></th>\n",
              "      <th></th>\n",
              "    </tr>\n",
              "  </thead>\n",
              "  <tbody>\n",
              "    <tr>\n",
              "      <th>1</th>\n",
              "      <td>101</td>\n",
              "      <td>70.0</td>\n",
              "      <td>71.3</td>\n",
              "      <td>-9.1</td>\n",
              "    </tr>\n",
              "    <tr>\n",
              "      <th>2</th>\n",
              "      <td>201</td>\n",
              "      <td>70.5</td>\n",
              "      <td>73.0</td>\n",
              "      <td>-12.2</td>\n",
              "    </tr>\n",
              "    <tr>\n",
              "      <th>3</th>\n",
              "      <td>301</td>\n",
              "      <td>73.4</td>\n",
              "      <td>75.2</td>\n",
              "      <td>-5.3</td>\n",
              "    </tr>\n",
              "  </tbody>\n",
              "</table>\n",
              "</div>\n",
              "    <div class=\"colab-df-buttons\">\n",
              "\n",
              "  <div class=\"colab-df-container\">\n",
              "    <button class=\"colab-df-convert\" onclick=\"convertToInteractive('df-509bea46-0cab-4d01-a853-5ffc15f48588')\"\n",
              "            title=\"Convert this dataframe to an interactive table.\"\n",
              "            style=\"display:none;\">\n",
              "\n",
              "  <svg xmlns=\"http://www.w3.org/2000/svg\" height=\"24px\" viewBox=\"0 -960 960 960\">\n",
              "    <path d=\"M120-120v-720h720v720H120Zm60-500h600v-160H180v160Zm220 220h160v-160H400v160Zm0 220h160v-160H400v160ZM180-400h160v-160H180v160Zm440 0h160v-160H620v160ZM180-180h160v-160H180v160Zm440 0h160v-160H620v160Z\"/>\n",
              "  </svg>\n",
              "    </button>\n",
              "\n",
              "  <style>\n",
              "    .colab-df-container {\n",
              "      display:flex;\n",
              "      gap: 12px;\n",
              "    }\n",
              "\n",
              "    .colab-df-convert {\n",
              "      background-color: #E8F0FE;\n",
              "      border: none;\n",
              "      border-radius: 50%;\n",
              "      cursor: pointer;\n",
              "      display: none;\n",
              "      fill: #1967D2;\n",
              "      height: 32px;\n",
              "      padding: 0 0 0 0;\n",
              "      width: 32px;\n",
              "    }\n",
              "\n",
              "    .colab-df-convert:hover {\n",
              "      background-color: #E2EBFA;\n",
              "      box-shadow: 0px 1px 2px rgba(60, 64, 67, 0.3), 0px 1px 3px 1px rgba(60, 64, 67, 0.15);\n",
              "      fill: #174EA6;\n",
              "    }\n",
              "\n",
              "    .colab-df-buttons div {\n",
              "      margin-bottom: 4px;\n",
              "    }\n",
              "\n",
              "    [theme=dark] .colab-df-convert {\n",
              "      background-color: #3B4455;\n",
              "      fill: #D2E3FC;\n",
              "    }\n",
              "\n",
              "    [theme=dark] .colab-df-convert:hover {\n",
              "      background-color: #434B5C;\n",
              "      box-shadow: 0px 1px 3px 1px rgba(0, 0, 0, 0.15);\n",
              "      filter: drop-shadow(0px 1px 2px rgba(0, 0, 0, 0.3));\n",
              "      fill: #FFFFFF;\n",
              "    }\n",
              "  </style>\n",
              "\n",
              "    <script>\n",
              "      const buttonEl =\n",
              "        document.querySelector('#df-509bea46-0cab-4d01-a853-5ffc15f48588 button.colab-df-convert');\n",
              "      buttonEl.style.display =\n",
              "        google.colab.kernel.accessAllowed ? 'block' : 'none';\n",
              "\n",
              "      async function convertToInteractive(key) {\n",
              "        const element = document.querySelector('#df-509bea46-0cab-4d01-a853-5ffc15f48588');\n",
              "        const dataTable =\n",
              "          await google.colab.kernel.invokeFunction('convertToInteractive',\n",
              "                                                    [key], {});\n",
              "        if (!dataTable) return;\n",
              "\n",
              "        const docLinkHtml = 'Like what you see? Visit the ' +\n",
              "          '<a target=\"_blank\" href=https://colab.research.google.com/notebooks/data_table.ipynb>data table notebook</a>'\n",
              "          + ' to learn more about interactive tables.';\n",
              "        element.innerHTML = '';\n",
              "        dataTable['output_type'] = 'display_data';\n",
              "        await google.colab.output.renderOutput(dataTable, element);\n",
              "        const docLink = document.createElement('div');\n",
              "        docLink.innerHTML = docLinkHtml;\n",
              "        element.appendChild(docLink);\n",
              "      }\n",
              "    </script>\n",
              "  </div>\n",
              "\n",
              "\n",
              "    <div id=\"df-fd42beaa-a089-4f4d-b82b-f59dbf192e96\">\n",
              "      <button class=\"colab-df-quickchart\" onclick=\"quickchart('df-fd42beaa-a089-4f4d-b82b-f59dbf192e96')\"\n",
              "                title=\"Suggest charts\"\n",
              "                style=\"display:none;\">\n",
              "\n",
              "<svg xmlns=\"http://www.w3.org/2000/svg\" height=\"24px\"viewBox=\"0 0 24 24\"\n",
              "     width=\"24px\">\n",
              "    <g>\n",
              "        <path d=\"M19 3H5c-1.1 0-2 .9-2 2v14c0 1.1.9 2 2 2h14c1.1 0 2-.9 2-2V5c0-1.1-.9-2-2-2zM9 17H7v-7h2v7zm4 0h-2V7h2v10zm4 0h-2v-4h2v4z\"/>\n",
              "    </g>\n",
              "</svg>\n",
              "      </button>\n",
              "\n",
              "<style>\n",
              "  .colab-df-quickchart {\n",
              "      --bg-color: #E8F0FE;\n",
              "      --fill-color: #1967D2;\n",
              "      --hover-bg-color: #E2EBFA;\n",
              "      --hover-fill-color: #174EA6;\n",
              "      --disabled-fill-color: #AAA;\n",
              "      --disabled-bg-color: #DDD;\n",
              "  }\n",
              "\n",
              "  [theme=dark] .colab-df-quickchart {\n",
              "      --bg-color: #3B4455;\n",
              "      --fill-color: #D2E3FC;\n",
              "      --hover-bg-color: #434B5C;\n",
              "      --hover-fill-color: #FFFFFF;\n",
              "      --disabled-bg-color: #3B4455;\n",
              "      --disabled-fill-color: #666;\n",
              "  }\n",
              "\n",
              "  .colab-df-quickchart {\n",
              "    background-color: var(--bg-color);\n",
              "    border: none;\n",
              "    border-radius: 50%;\n",
              "    cursor: pointer;\n",
              "    display: none;\n",
              "    fill: var(--fill-color);\n",
              "    height: 32px;\n",
              "    padding: 0;\n",
              "    width: 32px;\n",
              "  }\n",
              "\n",
              "  .colab-df-quickchart:hover {\n",
              "    background-color: var(--hover-bg-color);\n",
              "    box-shadow: 0 1px 2px rgba(60, 64, 67, 0.3), 0 1px 3px 1px rgba(60, 64, 67, 0.15);\n",
              "    fill: var(--button-hover-fill-color);\n",
              "  }\n",
              "\n",
              "  .colab-df-quickchart-complete:disabled,\n",
              "  .colab-df-quickchart-complete:disabled:hover {\n",
              "    background-color: var(--disabled-bg-color);\n",
              "    fill: var(--disabled-fill-color);\n",
              "    box-shadow: none;\n",
              "  }\n",
              "\n",
              "  .colab-df-spinner {\n",
              "    border: 2px solid var(--fill-color);\n",
              "    border-color: transparent;\n",
              "    border-bottom-color: var(--fill-color);\n",
              "    animation:\n",
              "      spin 1s steps(1) infinite;\n",
              "  }\n",
              "\n",
              "  @keyframes spin {\n",
              "    0% {\n",
              "      border-color: transparent;\n",
              "      border-bottom-color: var(--fill-color);\n",
              "      border-left-color: var(--fill-color);\n",
              "    }\n",
              "    20% {\n",
              "      border-color: transparent;\n",
              "      border-left-color: var(--fill-color);\n",
              "      border-top-color: var(--fill-color);\n",
              "    }\n",
              "    30% {\n",
              "      border-color: transparent;\n",
              "      border-left-color: var(--fill-color);\n",
              "      border-top-color: var(--fill-color);\n",
              "      border-right-color: var(--fill-color);\n",
              "    }\n",
              "    40% {\n",
              "      border-color: transparent;\n",
              "      border-right-color: var(--fill-color);\n",
              "      border-top-color: var(--fill-color);\n",
              "    }\n",
              "    60% {\n",
              "      border-color: transparent;\n",
              "      border-right-color: var(--fill-color);\n",
              "    }\n",
              "    80% {\n",
              "      border-color: transparent;\n",
              "      border-right-color: var(--fill-color);\n",
              "      border-bottom-color: var(--fill-color);\n",
              "    }\n",
              "    90% {\n",
              "      border-color: transparent;\n",
              "      border-bottom-color: var(--fill-color);\n",
              "    }\n",
              "  }\n",
              "</style>\n",
              "\n",
              "      <script>\n",
              "        async function quickchart(key) {\n",
              "          const quickchartButtonEl =\n",
              "            document.querySelector('#' + key + ' button');\n",
              "          quickchartButtonEl.disabled = true;  // To prevent multiple clicks.\n",
              "          quickchartButtonEl.classList.add('colab-df-spinner');\n",
              "          try {\n",
              "            const charts = await google.colab.kernel.invokeFunction(\n",
              "                'suggestCharts', [key], {});\n",
              "          } catch (error) {\n",
              "            console.error('Error during call to suggestCharts:', error);\n",
              "          }\n",
              "          quickchartButtonEl.classList.remove('colab-df-spinner');\n",
              "          quickchartButtonEl.classList.add('colab-df-quickchart-complete');\n",
              "        }\n",
              "        (() => {\n",
              "          let quickchartButtonEl =\n",
              "            document.querySelector('#df-fd42beaa-a089-4f4d-b82b-f59dbf192e96 button');\n",
              "          quickchartButtonEl.style.display =\n",
              "            google.colab.kernel.accessAllowed ? 'block' : 'none';\n",
              "        })();\n",
              "      </script>\n",
              "    </div>\n",
              "\n",
              "    </div>\n",
              "  </div>\n"
            ],
            "application/vnd.google.colaboratory.intrinsic+json": {
              "type": "dataframe",
              "summary": "{\n  \"name\": \"df\",\n  \"rows\": 3,\n  \"fields\": [\n    {\n      \"column\": \"group\",\n      \"properties\": {\n        \"dtype\": \"number\",\n        \"std\": 1,\n        \"min\": 1,\n        \"max\": 3,\n        \"num_unique_values\": 3,\n        \"samples\": [\n          1,\n          2,\n          3\n        ],\n        \"semantic_type\": \"\",\n        \"description\": \"\"\n      }\n    },\n    {\n      \"column\": \"ID\",\n      \"properties\": {\n        \"dtype\": \"number\",\n        \"std\": 100,\n        \"min\": 101,\n        \"max\": 301,\n        \"num_unique_values\": 3,\n        \"samples\": [\n          101,\n          201,\n          301\n        ],\n        \"semantic_type\": \"\",\n        \"description\": \"\"\n      }\n    },\n    {\n      \"column\": \"prewt\",\n      \"properties\": {\n        \"dtype\": \"number\",\n        \"std\": 1.835755975068585,\n        \"min\": 70.0,\n        \"max\": 73.4,\n        \"num_unique_values\": 3,\n        \"samples\": [\n          70.0,\n          70.5,\n          73.4\n        ],\n        \"semantic_type\": \"\",\n        \"description\": \"\"\n      }\n    },\n    {\n      \"column\": \"postwt\",\n      \"properties\": {\n        \"dtype\": \"number\",\n        \"std\": 1.9553345834749982,\n        \"min\": 71.3,\n        \"max\": 75.2,\n        \"num_unique_values\": 3,\n        \"samples\": [\n          71.3,\n          73.0,\n          75.2\n        ],\n        \"semantic_type\": \"\",\n        \"description\": \"\"\n      }\n    },\n    {\n      \"column\": \"difwt\",\n      \"properties\": {\n        \"dtype\": \"number\",\n        \"std\": 3.455912807542073,\n        \"min\": -12.2,\n        \"max\": -5.3,\n        \"num_unique_values\": 3,\n        \"samples\": [\n          -9.1,\n          -12.2,\n          -5.3\n        ],\n        \"semantic_type\": \"\",\n        \"description\": \"\"\n      }\n    }\n  ]\n}"
            }
          },
          "metadata": {},
          "execution_count": 28
        }
      ],
      "source": [
        "df.groupby(['group']).min()"
      ]
    },
    {
      "cell_type": "code",
      "execution_count": 29,
      "metadata": {
        "colab": {
          "base_uri": "https://localhost:8080/",
          "height": 174
        },
        "id": "JiCFPDETJiWh",
        "outputId": "9a0636fb-8363-4403-c64c-df45fbaf365d"
      },
      "outputs": [
        {
          "output_type": "execute_result",
          "data": {
            "text/plain": [
              "        ID  prewt  postwt  difwt\n",
              "group                           \n",
              "1      126   24.9    32.3   30.0\n",
              "2       25   21.3    16.6   28.1\n",
              "3       16   20.8    26.4   26.8"
            ],
            "text/html": [
              "\n",
              "  <div id=\"df-f7a3258d-fd98-42ce-a8f3-be642325e79e\" class=\"colab-df-container\">\n",
              "    <div>\n",
              "<style scoped>\n",
              "    .dataframe tbody tr th:only-of-type {\n",
              "        vertical-align: middle;\n",
              "    }\n",
              "\n",
              "    .dataframe tbody tr th {\n",
              "        vertical-align: top;\n",
              "    }\n",
              "\n",
              "    .dataframe thead th {\n",
              "        text-align: right;\n",
              "    }\n",
              "</style>\n",
              "<table border=\"1\" class=\"dataframe\">\n",
              "  <thead>\n",
              "    <tr style=\"text-align: right;\">\n",
              "      <th></th>\n",
              "      <th>ID</th>\n",
              "      <th>prewt</th>\n",
              "      <th>postwt</th>\n",
              "      <th>difwt</th>\n",
              "    </tr>\n",
              "    <tr>\n",
              "      <th>group</th>\n",
              "      <th></th>\n",
              "      <th></th>\n",
              "      <th></th>\n",
              "      <th></th>\n",
              "    </tr>\n",
              "  </thead>\n",
              "  <tbody>\n",
              "    <tr>\n",
              "      <th>1</th>\n",
              "      <td>126</td>\n",
              "      <td>24.9</td>\n",
              "      <td>32.3</td>\n",
              "      <td>30.0</td>\n",
              "    </tr>\n",
              "    <tr>\n",
              "      <th>2</th>\n",
              "      <td>25</td>\n",
              "      <td>21.3</td>\n",
              "      <td>16.6</td>\n",
              "      <td>28.1</td>\n",
              "    </tr>\n",
              "    <tr>\n",
              "      <th>3</th>\n",
              "      <td>16</td>\n",
              "      <td>20.8</td>\n",
              "      <td>26.4</td>\n",
              "      <td>26.8</td>\n",
              "    </tr>\n",
              "  </tbody>\n",
              "</table>\n",
              "</div>\n",
              "    <div class=\"colab-df-buttons\">\n",
              "\n",
              "  <div class=\"colab-df-container\">\n",
              "    <button class=\"colab-df-convert\" onclick=\"convertToInteractive('df-f7a3258d-fd98-42ce-a8f3-be642325e79e')\"\n",
              "            title=\"Convert this dataframe to an interactive table.\"\n",
              "            style=\"display:none;\">\n",
              "\n",
              "  <svg xmlns=\"http://www.w3.org/2000/svg\" height=\"24px\" viewBox=\"0 -960 960 960\">\n",
              "    <path d=\"M120-120v-720h720v720H120Zm60-500h600v-160H180v160Zm220 220h160v-160H400v160Zm0 220h160v-160H400v160ZM180-400h160v-160H180v160Zm440 0h160v-160H620v160ZM180-180h160v-160H180v160Zm440 0h160v-160H620v160Z\"/>\n",
              "  </svg>\n",
              "    </button>\n",
              "\n",
              "  <style>\n",
              "    .colab-df-container {\n",
              "      display:flex;\n",
              "      gap: 12px;\n",
              "    }\n",
              "\n",
              "    .colab-df-convert {\n",
              "      background-color: #E8F0FE;\n",
              "      border: none;\n",
              "      border-radius: 50%;\n",
              "      cursor: pointer;\n",
              "      display: none;\n",
              "      fill: #1967D2;\n",
              "      height: 32px;\n",
              "      padding: 0 0 0 0;\n",
              "      width: 32px;\n",
              "    }\n",
              "\n",
              "    .colab-df-convert:hover {\n",
              "      background-color: #E2EBFA;\n",
              "      box-shadow: 0px 1px 2px rgba(60, 64, 67, 0.3), 0px 1px 3px 1px rgba(60, 64, 67, 0.15);\n",
              "      fill: #174EA6;\n",
              "    }\n",
              "\n",
              "    .colab-df-buttons div {\n",
              "      margin-bottom: 4px;\n",
              "    }\n",
              "\n",
              "    [theme=dark] .colab-df-convert {\n",
              "      background-color: #3B4455;\n",
              "      fill: #D2E3FC;\n",
              "    }\n",
              "\n",
              "    [theme=dark] .colab-df-convert:hover {\n",
              "      background-color: #434B5C;\n",
              "      box-shadow: 0px 1px 3px 1px rgba(0, 0, 0, 0.15);\n",
              "      filter: drop-shadow(0px 1px 2px rgba(0, 0, 0, 0.3));\n",
              "      fill: #FFFFFF;\n",
              "    }\n",
              "  </style>\n",
              "\n",
              "    <script>\n",
              "      const buttonEl =\n",
              "        document.querySelector('#df-f7a3258d-fd98-42ce-a8f3-be642325e79e button.colab-df-convert');\n",
              "      buttonEl.style.display =\n",
              "        google.colab.kernel.accessAllowed ? 'block' : 'none';\n",
              "\n",
              "      async function convertToInteractive(key) {\n",
              "        const element = document.querySelector('#df-f7a3258d-fd98-42ce-a8f3-be642325e79e');\n",
              "        const dataTable =\n",
              "          await google.colab.kernel.invokeFunction('convertToInteractive',\n",
              "                                                    [key], {});\n",
              "        if (!dataTable) return;\n",
              "\n",
              "        const docLinkHtml = 'Like what you see? Visit the ' +\n",
              "          '<a target=\"_blank\" href=https://colab.research.google.com/notebooks/data_table.ipynb>data table notebook</a>'\n",
              "          + ' to learn more about interactive tables.';\n",
              "        element.innerHTML = '';\n",
              "        dataTable['output_type'] = 'display_data';\n",
              "        await google.colab.output.renderOutput(dataTable, element);\n",
              "        const docLink = document.createElement('div');\n",
              "        docLink.innerHTML = docLinkHtml;\n",
              "        element.appendChild(docLink);\n",
              "      }\n",
              "    </script>\n",
              "  </div>\n",
              "\n",
              "\n",
              "    <div id=\"df-59392605-8628-4dd1-a01f-94706706ef3c\">\n",
              "      <button class=\"colab-df-quickchart\" onclick=\"quickchart('df-59392605-8628-4dd1-a01f-94706706ef3c')\"\n",
              "                title=\"Suggest charts\"\n",
              "                style=\"display:none;\">\n",
              "\n",
              "<svg xmlns=\"http://www.w3.org/2000/svg\" height=\"24px\"viewBox=\"0 0 24 24\"\n",
              "     width=\"24px\">\n",
              "    <g>\n",
              "        <path d=\"M19 3H5c-1.1 0-2 .9-2 2v14c0 1.1.9 2 2 2h14c1.1 0 2-.9 2-2V5c0-1.1-.9-2-2-2zM9 17H7v-7h2v7zm4 0h-2V7h2v10zm4 0h-2v-4h2v4z\"/>\n",
              "    </g>\n",
              "</svg>\n",
              "      </button>\n",
              "\n",
              "<style>\n",
              "  .colab-df-quickchart {\n",
              "      --bg-color: #E8F0FE;\n",
              "      --fill-color: #1967D2;\n",
              "      --hover-bg-color: #E2EBFA;\n",
              "      --hover-fill-color: #174EA6;\n",
              "      --disabled-fill-color: #AAA;\n",
              "      --disabled-bg-color: #DDD;\n",
              "  }\n",
              "\n",
              "  [theme=dark] .colab-df-quickchart {\n",
              "      --bg-color: #3B4455;\n",
              "      --fill-color: #D2E3FC;\n",
              "      --hover-bg-color: #434B5C;\n",
              "      --hover-fill-color: #FFFFFF;\n",
              "      --disabled-bg-color: #3B4455;\n",
              "      --disabled-fill-color: #666;\n",
              "  }\n",
              "\n",
              "  .colab-df-quickchart {\n",
              "    background-color: var(--bg-color);\n",
              "    border: none;\n",
              "    border-radius: 50%;\n",
              "    cursor: pointer;\n",
              "    display: none;\n",
              "    fill: var(--fill-color);\n",
              "    height: 32px;\n",
              "    padding: 0;\n",
              "    width: 32px;\n",
              "  }\n",
              "\n",
              "  .colab-df-quickchart:hover {\n",
              "    background-color: var(--hover-bg-color);\n",
              "    box-shadow: 0 1px 2px rgba(60, 64, 67, 0.3), 0 1px 3px 1px rgba(60, 64, 67, 0.15);\n",
              "    fill: var(--button-hover-fill-color);\n",
              "  }\n",
              "\n",
              "  .colab-df-quickchart-complete:disabled,\n",
              "  .colab-df-quickchart-complete:disabled:hover {\n",
              "    background-color: var(--disabled-bg-color);\n",
              "    fill: var(--disabled-fill-color);\n",
              "    box-shadow: none;\n",
              "  }\n",
              "\n",
              "  .colab-df-spinner {\n",
              "    border: 2px solid var(--fill-color);\n",
              "    border-color: transparent;\n",
              "    border-bottom-color: var(--fill-color);\n",
              "    animation:\n",
              "      spin 1s steps(1) infinite;\n",
              "  }\n",
              "\n",
              "  @keyframes spin {\n",
              "    0% {\n",
              "      border-color: transparent;\n",
              "      border-bottom-color: var(--fill-color);\n",
              "      border-left-color: var(--fill-color);\n",
              "    }\n",
              "    20% {\n",
              "      border-color: transparent;\n",
              "      border-left-color: var(--fill-color);\n",
              "      border-top-color: var(--fill-color);\n",
              "    }\n",
              "    30% {\n",
              "      border-color: transparent;\n",
              "      border-left-color: var(--fill-color);\n",
              "      border-top-color: var(--fill-color);\n",
              "      border-right-color: var(--fill-color);\n",
              "    }\n",
              "    40% {\n",
              "      border-color: transparent;\n",
              "      border-right-color: var(--fill-color);\n",
              "      border-top-color: var(--fill-color);\n",
              "    }\n",
              "    60% {\n",
              "      border-color: transparent;\n",
              "      border-right-color: var(--fill-color);\n",
              "    }\n",
              "    80% {\n",
              "      border-color: transparent;\n",
              "      border-right-color: var(--fill-color);\n",
              "      border-bottom-color: var(--fill-color);\n",
              "    }\n",
              "    90% {\n",
              "      border-color: transparent;\n",
              "      border-bottom-color: var(--fill-color);\n",
              "    }\n",
              "  }\n",
              "</style>\n",
              "\n",
              "      <script>\n",
              "        async function quickchart(key) {\n",
              "          const quickchartButtonEl =\n",
              "            document.querySelector('#' + key + ' button');\n",
              "          quickchartButtonEl.disabled = true;  // To prevent multiple clicks.\n",
              "          quickchartButtonEl.classList.add('colab-df-spinner');\n",
              "          try {\n",
              "            const charts = await google.colab.kernel.invokeFunction(\n",
              "                'suggestCharts', [key], {});\n",
              "          } catch (error) {\n",
              "            console.error('Error during call to suggestCharts:', error);\n",
              "          }\n",
              "          quickchartButtonEl.classList.remove('colab-df-spinner');\n",
              "          quickchartButtonEl.classList.add('colab-df-quickchart-complete');\n",
              "        }\n",
              "        (() => {\n",
              "          let quickchartButtonEl =\n",
              "            document.querySelector('#df-59392605-8628-4dd1-a01f-94706706ef3c button');\n",
              "          quickchartButtonEl.style.display =\n",
              "            google.colab.kernel.accessAllowed ? 'block' : 'none';\n",
              "        })();\n",
              "      </script>\n",
              "    </div>\n",
              "\n",
              "    </div>\n",
              "  </div>\n"
            ],
            "application/vnd.google.colaboratory.intrinsic+json": {
              "type": "dataframe",
              "summary": "{\n  \"name\": \"df\",\n  \"rows\": 3,\n  \"fields\": [\n    {\n      \"column\": \"group\",\n      \"properties\": {\n        \"dtype\": \"number\",\n        \"std\": 1,\n        \"min\": 1,\n        \"max\": 3,\n        \"num_unique_values\": 3,\n        \"samples\": [\n          1,\n          2,\n          3\n        ],\n        \"semantic_type\": \"\",\n        \"description\": \"\"\n      }\n    },\n    {\n      \"column\": \"ID\",\n      \"properties\": {\n        \"dtype\": \"number\",\n        \"std\": 61,\n        \"min\": 16,\n        \"max\": 126,\n        \"num_unique_values\": 3,\n        \"samples\": [\n          126,\n          25,\n          16\n        ],\n        \"semantic_type\": \"\",\n        \"description\": \"\"\n      }\n    },\n    {\n      \"column\": \"prewt\",\n      \"properties\": {\n        \"dtype\": \"number\",\n        \"std\": 2.2368132093076873,\n        \"min\": 20.799999999999997,\n        \"max\": 24.900000000000006,\n        \"num_unique_values\": 3,\n        \"samples\": [\n          24.900000000000006,\n          21.299999999999997,\n          20.799999999999997\n        ],\n        \"semantic_type\": \"\",\n        \"description\": \"\"\n      }\n    },\n    {\n      \"column\": \"postwt\",\n      \"properties\": {\n        \"dtype\": \"number\",\n        \"std\": 7.930321557162737,\n        \"min\": 16.599999999999994,\n        \"max\": 32.3,\n        \"num_unique_values\": 3,\n        \"samples\": [\n          32.3,\n          16.599999999999994,\n          26.39999999999999\n        ],\n        \"semantic_type\": \"\",\n        \"description\": \"\"\n      }\n    },\n    {\n      \"column\": \"difwt\",\n      \"properties\": {\n        \"dtype\": \"number\",\n        \"std\": 1.6093476939431077,\n        \"min\": 26.8,\n        \"max\": 30.0,\n        \"num_unique_values\": 3,\n        \"samples\": [\n          30.0,\n          28.1,\n          26.8\n        ],\n        \"semantic_type\": \"\",\n        \"description\": \"\"\n      }\n    }\n  ]\n}"
            }
          },
          "metadata": {},
          "execution_count": 29
        }
      ],
      "source": [
        "df.groupby(['group']).max() - df.groupby(['group']).min()"
      ]
    },
    {
      "cell_type": "markdown",
      "metadata": {
        "id": "yu7uEqaGJiWh"
      },
      "source": [
        "### Standard Deviation - Desviación estándar\n",
        "\n",
        "La desviación estándar mide la dispersión de los datos sobre el valor medio. Es útil para comparar conjuntos de datos que pueden tener la misma media pero un rango diferente.\n",
        "\n",
        "\n",
        "\\begin{equation*}\n",
        "Desviacion.Standar = \\sqrt{\\frac{1}{N-1} \\sum_{i=1}^N (x_i - \\overline{x})^2}\n",
        "\\end{equation*}\n"
      ]
    },
    {
      "cell_type": "code",
      "execution_count": 30,
      "metadata": {
        "colab": {
          "base_uri": "https://localhost:8080/"
        },
        "id": "M_RLWVviJiWh",
        "outputId": "2cf64692-fa4d-4725-9729-ad95e962846d"
      },
      "outputs": [
        {
          "output_type": "stream",
          "name": "stdout",
          "text": [
            "[80.5, 80.7, 83.8, 84.9, 89.4, 83.3, 81.5, 91.8, 86.0, 82.6, 74.0]\n"
          ]
        }
      ],
      "source": [
        "a = list(df.prewt.head(11));print(a)"
      ]
    },
    {
      "cell_type": "code",
      "execution_count": 31,
      "metadata": {
        "colab": {
          "base_uri": "https://localhost:8080/"
        },
        "id": "XAgwWvN3JiWh",
        "outputId": "436157d3-44e7-4356-fe5a-ed86c165d1d2"
      },
      "outputs": [
        {
          "output_type": "stream",
          "name": "stdout",
          "text": [
            "promedio= 83.5\n"
          ]
        }
      ],
      "source": [
        "x_bar = df.prewt.head(11).mean()\n",
        "print(\"promedio=\",x_bar)"
      ]
    },
    {
      "cell_type": "code",
      "execution_count": 32,
      "metadata": {
        "colab": {
          "base_uri": "https://localhost:8080/"
        },
        "id": "_ql5x6qAJiWh",
        "outputId": "f542ebe1-480c-4fac-e01f-83d19ca9d496"
      },
      "outputs": [
        {
          "output_type": "stream",
          "name": "stdout",
          "text": [
            "(x_i - x_bar)^2=( 80.5 - 83.5 )^2= 9.0 | SUMA =  9.0\n",
            "(x_i - x_bar)^2=( 80.7 - 83.5 )^2= 7.839999999999984 | SUMA =  16.839999999999982\n",
            "(x_i - x_bar)^2=( 83.8 - 83.5 )^2= 0.08999999999999829 | SUMA =  16.929999999999982\n",
            "(x_i - x_bar)^2=( 84.9 - 83.5 )^2= 1.960000000000016 | SUMA =  18.889999999999997\n",
            "(x_i - x_bar)^2=( 89.4 - 83.5 )^2= 34.810000000000066 | SUMA =  53.70000000000006\n",
            "(x_i - x_bar)^2=( 83.3 - 83.5 )^2= 0.04000000000000114 | SUMA =  53.74000000000006\n",
            "(x_i - x_bar)^2=( 81.5 - 83.5 )^2= 4.0 | SUMA =  57.74000000000006\n",
            "(x_i - x_bar)^2=( 91.8 - 83.5 )^2= 68.88999999999996 | SUMA =  126.63000000000002\n",
            "(x_i - x_bar)^2=( 86.0 - 83.5 )^2= 6.25 | SUMA =  132.88000000000002\n",
            "(x_i - x_bar)^2=( 82.6 - 83.5 )^2= 0.8100000000000103 | SUMA =  133.69000000000003\n",
            "(x_i - x_bar)^2=( 74.0 - 83.5 )^2= 90.25 | SUMA =  223.94000000000003\n"
          ]
        }
      ],
      "source": [
        "a_sum = 0.0\n",
        "for x_i in a:\n",
        "    a_sum = a_sum + (x_i - x_bar)**2\n",
        "    print (\"(x_i - x_bar)^2=(\",x_i, \"-\",x_bar,\")^2=\", (x_i - x_bar)**2, \"| SUMA = \", a_sum)"
      ]
    },
    {
      "cell_type": "code",
      "execution_count": 33,
      "metadata": {
        "colab": {
          "base_uri": "https://localhost:8080/"
        },
        "id": "v4S8k35mJiWi",
        "outputId": "fcdd2e20-8094-4e99-f864-81a301c82446"
      },
      "outputs": [
        {
          "output_type": "stream",
          "name": "stdout",
          "text": [
            "Standard Deviation - Desviación estándar =  4.732229918336598\n"
          ]
        }
      ],
      "source": [
        "import math\n",
        "print(\"Standard Deviation - Desviación estándar = \", math.sqrt(a_sum/(len(a)-1)))"
      ]
    },
    {
      "cell_type": "markdown",
      "metadata": {
        "id": "rQiRSS8WJiWi"
      },
      "source": [
        "Pero en Python Pandas podemos utilizar __std__ ;-)"
      ]
    },
    {
      "cell_type": "code",
      "execution_count": 34,
      "metadata": {
        "colab": {
          "base_uri": "https://localhost:8080/"
        },
        "id": "Rc6d6QnGJiWi",
        "outputId": "cc7ad6f9-21ba-4cd6-afc0-d77c5d3d5a6b"
      },
      "outputs": [
        {
          "output_type": "execute_result",
          "data": {
            "text/plain": [
              "4.732229918336597"
            ]
          },
          "metadata": {},
          "execution_count": 34
        }
      ],
      "source": [
        "df.prewt.head(11).std()"
      ]
    },
    {
      "cell_type": "markdown",
      "metadata": {
        "id": "UflY8oKzJiWi"
      },
      "source": [
        "### Quartiles and Interquartile Range - Cuartiles y rango intercuartil.\n",
        "\n",
        "Los cuartiles nos informan sobre la propagación de un conjunto de datos al dividir el conjunto de datos en 4 grupos. Al igual que la mediana divide en N=2 grupos cogiendo 1 elemento central o el promedio de los dos elementos centrales, la operación para encontrar los cuartiles (N=4) divide los datos en 4 grupos utilizando 3 fronteras (N-1 fronteras generan N grupos) y las fronteras son el elemento 25%, el elemento 50% (mediana) y el elemento 75%.\n"
      ]
    },
    {
      "cell_type": "markdown",
      "metadata": {
        "id": "lJDfja8EJiWi"
      },
      "source": [
        "Primero cuartil - 25% percentil"
      ]
    },
    {
      "cell_type": "code",
      "execution_count": 35,
      "metadata": {
        "colab": {
          "base_uri": "https://localhost:8080/"
        },
        "id": "ZP4IFQPtJiWi",
        "outputId": "7a0cb9a9-4e97-4f01-85aa-75efd663df6b"
      },
      "outputs": [
        {
          "output_type": "execute_result",
          "data": {
            "text/plain": [
              "np.float64(79.6)"
            ]
          },
          "metadata": {},
          "execution_count": 35
        }
      ],
      "source": [
        "df.prewt.quantile(0.25) # 25% percentil - Primero cuartil"
      ]
    },
    {
      "cell_type": "markdown",
      "metadata": {
        "id": "Pr8-24wzJiWi"
      },
      "source": [
        "Segundo cuartil - El mismo que la mediana - 50% percentil"
      ]
    },
    {
      "cell_type": "code",
      "execution_count": 36,
      "metadata": {
        "colab": {
          "base_uri": "https://localhost:8080/"
        },
        "id": "NSKG-QeVJiWi",
        "outputId": "5013c1aa-e5dd-4b0a-b69a-2f8740a68f39"
      },
      "outputs": [
        {
          "output_type": "execute_result",
          "data": {
            "text/plain": [
              "np.float64(82.3)"
            ]
          },
          "metadata": {},
          "execution_count": 36
        }
      ],
      "source": [
        "df.prewt.quantile(0.50)"
      ]
    },
    {
      "cell_type": "code",
      "execution_count": 37,
      "metadata": {
        "colab": {
          "base_uri": "https://localhost:8080/"
        },
        "id": "FMSBqnXnJiWi",
        "outputId": "adca5a9d-8b97-41b5-ba5b-949e3a5cdbee"
      },
      "outputs": [
        {
          "output_type": "execute_result",
          "data": {
            "text/plain": [
              "82.3"
            ]
          },
          "metadata": {},
          "execution_count": 37
        }
      ],
      "source": [
        "df.prewt.median()"
      ]
    },
    {
      "cell_type": "markdown",
      "metadata": {
        "id": "Qb2Fnc4FJiWi"
      },
      "source": [
        "Tercero cuartil - 75% percentil"
      ]
    },
    {
      "cell_type": "code",
      "execution_count": 38,
      "metadata": {
        "colab": {
          "base_uri": "https://localhost:8080/"
        },
        "id": "-6GrUQFTJiWi",
        "outputId": "1d4b27f4-9d39-4816-e814-dda7431a522c"
      },
      "outputs": [
        {
          "output_type": "execute_result",
          "data": {
            "text/plain": [
              "np.float64(86.0)"
            ]
          },
          "metadata": {},
          "execution_count": 38
        }
      ],
      "source": [
        "df.prewt.quantile(0.75)"
      ]
    },
    {
      "cell_type": "markdown",
      "metadata": {
        "id": "KqQGEGZ7JiWj"
      },
      "source": [
        "---"
      ]
    },
    {
      "cell_type": "markdown",
      "metadata": {
        "id": "Bda2tej7JiWj"
      },
      "source": [
        "### Describe\n",
        "\n",
        "En pandas, la función __describe__ reune medidas de tendencia central y disperción en una única operación\n"
      ]
    },
    {
      "cell_type": "code",
      "execution_count": 39,
      "metadata": {
        "colab": {
          "base_uri": "https://localhost:8080/",
          "height": 335
        },
        "id": "7eBeCoN1JiWj",
        "outputId": "cb9cd6c5-ee88-4d97-cef0-e601301b7d48"
      },
      "outputs": [
        {
          "output_type": "execute_result",
          "data": {
            "text/plain": [
              "count    72.000000\n",
              "mean     82.408333\n",
              "std       5.182466\n",
              "min      70.000000\n",
              "25%      79.600000\n",
              "50%      82.300000\n",
              "75%      86.000000\n",
              "max      94.900000\n",
              "Name: prewt, dtype: float64"
            ],
            "text/html": [
              "<div>\n",
              "<style scoped>\n",
              "    .dataframe tbody tr th:only-of-type {\n",
              "        vertical-align: middle;\n",
              "    }\n",
              "\n",
              "    .dataframe tbody tr th {\n",
              "        vertical-align: top;\n",
              "    }\n",
              "\n",
              "    .dataframe thead th {\n",
              "        text-align: right;\n",
              "    }\n",
              "</style>\n",
              "<table border=\"1\" class=\"dataframe\">\n",
              "  <thead>\n",
              "    <tr style=\"text-align: right;\">\n",
              "      <th></th>\n",
              "      <th>prewt</th>\n",
              "    </tr>\n",
              "  </thead>\n",
              "  <tbody>\n",
              "    <tr>\n",
              "      <th>count</th>\n",
              "      <td>72.000000</td>\n",
              "    </tr>\n",
              "    <tr>\n",
              "      <th>mean</th>\n",
              "      <td>82.408333</td>\n",
              "    </tr>\n",
              "    <tr>\n",
              "      <th>std</th>\n",
              "      <td>5.182466</td>\n",
              "    </tr>\n",
              "    <tr>\n",
              "      <th>min</th>\n",
              "      <td>70.000000</td>\n",
              "    </tr>\n",
              "    <tr>\n",
              "      <th>25%</th>\n",
              "      <td>79.600000</td>\n",
              "    </tr>\n",
              "    <tr>\n",
              "      <th>50%</th>\n",
              "      <td>82.300000</td>\n",
              "    </tr>\n",
              "    <tr>\n",
              "      <th>75%</th>\n",
              "      <td>86.000000</td>\n",
              "    </tr>\n",
              "    <tr>\n",
              "      <th>max</th>\n",
              "      <td>94.900000</td>\n",
              "    </tr>\n",
              "  </tbody>\n",
              "</table>\n",
              "</div><br><label><b>dtype:</b> float64</label>"
            ]
          },
          "metadata": {},
          "execution_count": 39
        }
      ],
      "source": [
        "df.prewt.describe()"
      ]
    },
    {
      "cell_type": "markdown",
      "metadata": {
        "id": "viKTh1wMJiWj"
      },
      "source": [
        "El __loop__ abajo imprime la función __describe__ por grupo para cada una de las variables continuas."
      ]
    },
    {
      "cell_type": "code",
      "execution_count": 40,
      "metadata": {
        "colab": {
          "base_uri": "https://localhost:8080/"
        },
        "id": "BFQ5fcMoJiWj",
        "outputId": "9e56fcb5-0102-4aec-dcf8-6ee59dfb9d58"
      },
      "outputs": [
        {
          "output_type": "stream",
          "name": "stdout",
          "text": [
            "VARIABLE =  prewt\n",
            "      prewt                                                        \n",
            "      count       mean       std   min     25%    50%     75%   max\n",
            "group                                                              \n",
            "1      29.0  82.689655  4.845495  70.0  80.400  82.60  85.000  94.9\n",
            "2      26.0  81.557692  5.707060  70.5  77.725  80.65  85.875  91.8\n",
            "3      17.0  83.229412  5.016693  73.4  80.500  83.30  86.000  94.2\n",
            "---\n",
            "VARIABLE =  postwt\n",
            "      postwt                                                        \n",
            "       count       mean       std   min     25%   50%     75%    max\n",
            "group                                                               \n",
            "1       29.0  85.696552  8.351924  71.3  81.900  83.9  90.900  103.6\n",
            "2       26.0  81.107692  4.744253  73.0  77.575  80.7  84.675   89.6\n",
            "3       17.0  90.494118  8.475072  75.2  90.700  92.5  95.200  101.6\n",
            "---\n",
            "VARIABLE =  difwt\n",
            "      difwt                                                 \n",
            "      count      mean       std   min  25%   50%   75%   max\n",
            "group                                                       \n",
            "1      29.0  3.006897  7.308504  -9.1 -0.7  1.40   3.9  20.9\n",
            "2      26.0 -0.450000  7.988705 -12.2 -7.0 -0.35   3.6  15.9\n",
            "3      17.0  7.264706  7.157421  -5.3  3.9  9.00  11.4  21.5\n",
            "---\n"
          ]
        }
      ],
      "source": [
        "for var in ['prewt', 'postwt', 'difwt']:\n",
        "    print(\"VARIABLE = \", var)\n",
        "    print(df[[var,'group']].groupby(['group']).describe())\n",
        "    print(\"---\")"
      ]
    },
    {
      "cell_type": "markdown",
      "metadata": {
        "id": "2-5imiwlJiWj"
      },
      "source": [
        "Quizás el poder de toda esta infomación para el analisis se queda más evidente en una gráfica de BoxPlot:"
      ]
    },
    {
      "cell_type": "code",
      "execution_count": 41,
      "metadata": {
        "colab": {
          "base_uri": "https://localhost:8080/",
          "height": 447
        },
        "id": "1F9kN0HgJiWj",
        "outputId": "08300211-f92c-495c-a542-3133fbf058bf"
      },
      "outputs": [
        {
          "output_type": "stream",
          "name": "stdout",
          "text": [
            "Grupo 1: Terapia individual de comportamiento cognitivo\n"
          ]
        },
        {
          "output_type": "display_data",
          "data": {
            "text/plain": [
              "<Figure size 640x480 with 1 Axes>"
            ],
            "image/png": "[encoded data removed]"
          },
          "metadata": {}
        }
      ],
      "source": [
        "print(\"Grupo 1: Terapia individual de comportamiento cognitivo\")\n",
        "boxplot = df[df.group == 1].boxplot(column=['prewt', 'postwt', 'difwt'],showmeans=True)\n"
      ]
    },
    {
      "cell_type": "code",
      "execution_count": 42,
      "metadata": {
        "colab": {
          "base_uri": "https://localhost:8080/",
          "height": 447
        },
        "id": "5EaCEA77JiWj",
        "outputId": "23208011-eb6a-4399-fd9f-c54ab75ead5f"
      },
      "outputs": [
        {
          "output_type": "stream",
          "name": "stdout",
          "text": [
            "Grupo 2: Grupo de control\n"
          ]
        },
        {
          "output_type": "display_data",
          "data": {
            "text/plain": [
              "<Figure size 640x480 with 1 Axes>"
            ],
            "image/png": "[encoded data removed]"
          },
          "metadata": {}
        }
      ],
      "source": [
        "print(\"Grupo 2: Grupo de control\")\n",
        "boxplot = df[df.group == 2].boxplot(column=['prewt', 'postwt', 'difwt'],showmeans=True)"
      ]
    },
    {
      "cell_type": "code",
      "execution_count": 43,
      "metadata": {
        "colab": {
          "base_uri": "https://localhost:8080/",
          "height": 447
        },
        "id": "vkZ6ViG1JiWj",
        "outputId": "5cd9de9e-2392-44e6-9d94-c318a04b4772"
      },
      "outputs": [
        {
          "output_type": "stream",
          "name": "stdout",
          "text": [
            "Grupo 3: Terapia familiar\n"
          ]
        },
        {
          "output_type": "display_data",
          "data": {
            "text/plain": [
              "<Figure size 640x480 with 1 Axes>"
            ],
            "image/png": "[encoded data removed]"
          },
          "metadata": {}
        }
      ],
      "source": [
        "print(\"Grupo 3: Terapia familiar\")\n",
        "boxplot = df[df.group == 3].boxplot(column=['prewt', 'postwt', 'difwt'],showmeans=True)"
      ]
    },
    {
      "cell_type": "markdown",
      "metadata": {
        "id": "8D6wsNorJiWj"
      },
      "source": [
        "__QUESTIÓN PARA DEBATE 6__: Con toda esa información en la mano, que tratamiento parece que funciona mejor?"
      ]
    },
    {
      "cell_type": "markdown",
      "metadata": {
        "id": "-pFnxdbeJiWj"
      },
      "source": [
        "---"
      ]
    },
    {
      "cell_type": "markdown",
      "metadata": {
        "id": "U0ACQPVaJiWj"
      },
      "source": [
        "#### Conclusiones\n",
        "\n",
        "La\tforma\ten\tque\tdecidimos\tanalizar\tlos\tdatos\tpuede\tdar\tlugar\ta resultados completamente diferentes.\n",
        "A  menudo  se  puede  impactar  (intencionalmente  o  no)  en  lo  que  la gente toma por cierto según como se comuniquen los resultados.\n",
        "\n",
        "#### Consejos\n",
        "Ser escépticos de vuestros resultados y de aquellos que proporcionan otros.\n",
        "Considera otras formas de analizar los datos y si la elegiste correctamente.\n"
      ]
    },
    {
      "cell_type": "markdown",
      "metadata": {
        "id": "779XrlGaJiWj"
      },
      "source": [
        "---"
      ]
    }
  ],
  "metadata": {
    "kernelspec": {
      "display_name": "Python 3 (ipykernel)",
      "language": "python",
      "name": "python3"
    },
    "language_info": {
      "codemirror_mode": {
        "name": "ipython",
        "version": 3
      },
      "file_extension": ".py",
      "mimetype": "text/x-python",
      "name": "python",
      "nbconvert_exporter": "python",
      "pygments_lexer": "ipython3",
      "version": "3.11.7"
    },
    "colab": {
      "provenance": []
    }
  },
  "nbformat": 4,
  "nbformat_minor": 0
}